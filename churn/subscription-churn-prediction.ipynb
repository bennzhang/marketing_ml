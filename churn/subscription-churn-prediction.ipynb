{
 "cells": [
  {
   "cell_type": "markdown",
   "metadata": {},
   "source": [
    "# Subscription Churn Prediction"
   ]
  },
  {
   "cell_type": "markdown",
   "metadata": {},
   "source": [
    "# Table of Contents :\n",
    "* [1. Introduction](#section1)\n",
    "* [2. Importing Required Libraries](#section2)\n",
    "* [3. Data Exploration](#section3)\n",
    "  - [Feature Description](#section31)\n",
    "  - [Basic EDA](#section32)\n",
    "  - [Profiling Report](#section33)\n",
    "  - [Dropping Unrelated Columns](#section34)  \n",
    "  - [Visualization](#section35)  \n",
    "  - [Correlation](#section36)\n",
    "* [4. Data Prep](#section4)  \n",
    "  - [Category Features](#section41)\n",
    "    - [LabelEncoder](#section411)\n",
    "    - [OneHotEncoder](#section411)\n",
    "  - [Scaler](#section42)\n",
    "* [5. Modelling](#section5)\n",
    "   - [RandomForestClassifier](#section51)\n",
    "   - [XGBClassifier](#section52)\n",
    "   - [LGBMClassifier](#section53)\n",
    "   - [AdaBoostClassifier](#section54)\n",
    "   - [LazyClassifier Automation](#section55)   \n",
    "* [6. Picked Model Validation](#section6)\n",
    "  "
   ]
  },
  {
   "cell_type": "markdown",
   "metadata": {},
   "source": [
    "<a id=\"section1\"></a>\n",
    "# Introduction\n",
    "Use [Kaggle dataset](https://www.kaggle.com/datasets/safrin03/predictive-analytics-for-customer-churn-dataset), download **data_descriptions.csv, train.csv, test.csv**"
   ]
  },
  {
   "cell_type": "markdown",
   "metadata": {},
   "source": [
    "<a id=\"section2\"></a>\n",
    "# Importing Required Libraries"
   ]
  },
  {
   "cell_type": "code",
   "execution_count": null,
   "metadata": {
    "execution": {
     "iopub.execute_input": "2022-10-21T18:21:14.618209Z",
     "iopub.status.busy": "2022-10-21T18:21:14.617084Z",
     "iopub.status.idle": "2022-10-21T18:21:41.525749Z",
     "shell.execute_reply": "2022-10-21T18:21:41.524300Z",
     "shell.execute_reply.started": "2022-10-21T18:21:14.618040Z"
    }
   },
   "outputs": [],
   "source": [
    "# !pip install pandas\n",
    "# !pip install missingno\n",
    "# !pip install plotly\n",
    "# !brew install lightgbm \n",
    "# !pip install lightgbm\n",
    "# !pip install scikit-learn\n",
    "# !pip install xgtboot\n",
    "# !pip install -U lazypredict"
   ]
  },
  {
   "cell_type": "code",
   "execution_count": null,
   "metadata": {
    "execution": {
     "iopub.execute_input": "2022-10-21T18:21:41.529017Z",
     "iopub.status.busy": "2022-10-21T18:21:41.528395Z",
     "iopub.status.idle": "2022-10-21T18:21:44.845811Z",
     "shell.execute_reply": "2022-10-21T18:21:44.844359Z",
     "shell.execute_reply.started": "2022-10-21T18:21:41.528955Z"
    }
   },
   "outputs": [],
   "source": [
    "#Importing all essential libraries\n",
    "import numpy as np\n",
    "import pandas as pd\n",
    "import plotly.express as px\n",
    "import missingno as msno\n",
    "\n",
    "from sklearn.model_selection import train_test_split\n",
    "from sklearn.preprocessing import StandardScaler,LabelEncoder\n",
    "\n",
    "import lazypredict\n",
    "from lazypredict.Supervised import LazyClassifier\n",
    "\n",
    "import warnings\n",
    "warnings.filterwarnings('ignore')"
   ]
  },
  {
   "cell_type": "markdown",
   "metadata": {},
   "source": [
    "<a id=\"section3\"></a>\n",
    "#  Data Exploration :"
   ]
  },
  {
   "cell_type": "markdown",
   "metadata": {},
   "source": [
    "<a id=\"section31\"></a>\n",
    "## Feature Description"
   ]
  },
  {
   "cell_type": "code",
   "execution_count": null,
   "metadata": {},
   "outputs": [],
   "source": [
    "data_descriptions = pd.read_csv(\"data_descriptions.csv\")\n",
    "data_descriptions"
   ]
  },
  {
   "cell_type": "markdown",
   "metadata": {},
   "source": [
    "<a id=\"section32\"></a>\n",
    "## Input - Basic EDA"
   ]
  },
  {
   "cell_type": "code",
   "execution_count": null,
   "metadata": {
    "execution": {
     "iopub.execute_input": "2022-10-21T18:21:44.890411Z",
     "iopub.status.busy": "2022-10-21T18:21:44.890075Z",
     "iopub.status.idle": "2022-10-21T18:21:44.957902Z",
     "shell.execute_reply": "2022-10-21T18:21:44.956516Z",
     "shell.execute_reply.started": "2022-10-21T18:21:44.890382Z"
    }
   },
   "outputs": [],
   "source": [
    "# readin train/test dataset\n",
    "train_df = pd.read_csv(\"train.csv\")"
   ]
  },
  {
   "cell_type": "code",
   "execution_count": null,
   "metadata": {},
   "outputs": [],
   "source": [
    "# browse the data\n",
    "train_df.head()"
   ]
  },
  {
   "cell_type": "code",
   "execution_count": null,
   "metadata": {
    "execution": {
     "iopub.execute_input": "2022-10-21T18:21:44.959379Z",
     "iopub.status.busy": "2022-10-21T18:21:44.959058Z",
     "iopub.status.idle": "2022-10-21T18:21:44.968499Z",
     "shell.execute_reply": "2022-10-21T18:21:44.967075Z",
     "shell.execute_reply.started": "2022-10-21T18:21:44.959351Z"
    }
   },
   "outputs": [],
   "source": [
    "# check shape\n",
    "train_df.shape"
   ]
  },
  {
   "cell_type": "code",
   "execution_count": null,
   "metadata": {},
   "outputs": [],
   "source": [
    "# convert string yes/No to 1/0\n",
    "value_map = {'Yes': 1, 'No': 0}\n",
    "train_df['PaperlessBilling'] = train_df['PaperlessBilling'].replace(value_map)\n",
    "train_df['MultiDeviceAccess'] = train_df['MultiDeviceAccess'].replace(value_map)\n",
    "train_df['ParentalControl'] = train_df['ParentalControl'].replace(value_map)\n",
    "train_df['SubtitlesEnabled'] = train_df['SubtitlesEnabled'].replace(value_map)"
   ]
  },
  {
   "cell_type": "code",
   "execution_count": null,
   "metadata": {
    "execution": {
     "iopub.execute_input": "2022-10-21T18:21:44.971111Z",
     "iopub.status.busy": "2022-10-21T18:21:44.970230Z",
     "iopub.status.idle": "2022-10-21T18:21:44.981086Z",
     "shell.execute_reply": "2022-10-21T18:21:44.979800Z",
     "shell.execute_reply.started": "2022-10-21T18:21:44.971075Z"
    }
   },
   "outputs": [],
   "source": [
    "# check column types\n",
    "train_df.dtypes"
   ]
  },
  {
   "cell_type": "code",
   "execution_count": null,
   "metadata": {
    "execution": {
     "iopub.execute_input": "2022-10-21T18:21:44.983179Z",
     "iopub.status.busy": "2022-10-21T18:21:44.982830Z",
     "iopub.status.idle": "2022-10-21T18:21:45.116793Z",
     "shell.execute_reply": "2022-10-21T18:21:45.115345Z",
     "shell.execute_reply.started": "2022-10-21T18:21:44.983149Z"
    }
   },
   "outputs": [],
   "source": [
    "# descriptive stats\n",
    "train_df.describe()"
   ]
  },
  {
   "cell_type": "code",
   "execution_count": null,
   "metadata": {
    "execution": {
     "iopub.execute_input": "2022-10-21T18:21:45.119056Z",
     "iopub.status.busy": "2022-10-21T18:21:45.118675Z",
     "iopub.status.idle": "2022-10-21T18:21:45.137394Z",
     "shell.execute_reply": "2022-10-21T18:21:45.136067Z",
     "shell.execute_reply.started": "2022-10-21T18:21:45.118996Z"
    }
   },
   "outputs": [],
   "source": [
    "# check unique values for each column\n",
    "train_df.nunique()"
   ]
  },
  {
   "cell_type": "markdown",
   "metadata": {},
   "source": [
    "<a id=\"section321\"></a>\n",
    "### Null value check"
   ]
  },
  {
   "cell_type": "code",
   "execution_count": null,
   "metadata": {
    "execution": {
     "iopub.execute_input": "2022-10-21T18:21:45.139586Z",
     "iopub.status.busy": "2022-10-21T18:21:45.139088Z",
     "iopub.status.idle": "2022-10-21T18:21:45.152642Z",
     "shell.execute_reply": "2022-10-21T18:21:45.151326Z",
     "shell.execute_reply.started": "2022-10-21T18:21:45.139543Z"
    }
   },
   "outputs": [],
   "source": [
    "# check missing values\n",
    "train_df.isnull().sum()"
   ]
  },
  {
   "cell_type": "code",
   "execution_count": null,
   "metadata": {
    "execution": {
     "iopub.execute_input": "2022-10-21T18:21:45.160510Z",
     "iopub.status.busy": "2022-10-21T18:21:45.160099Z",
     "iopub.status.idle": "2022-10-21T18:21:45.870923Z",
     "shell.execute_reply": "2022-10-21T18:21:45.870065Z",
     "shell.execute_reply.started": "2022-10-21T18:21:45.160477Z"
    }
   },
   "outputs": [],
   "source": [
    "# OR use missingno to check\n",
    "msno.matrix(train_df)"
   ]
  },
  {
   "cell_type": "markdown",
   "metadata": {},
   "source": [
    "We do not have any missing value in the dataset hence now we can analyse the data much better and build accurate models for prediction. If the dataset would contain missing values, check the below given links to help you know the process of Data cleaning.\n",
    "Customer ID is randomly allocated to a customer and useless for model. We will drop it"
   ]
  },
  {
   "cell_type": "markdown",
   "metadata": {},
   "source": [
    "<a id=\"section33\"></a>\n",
    "## Profiling Report"
   ]
  },
  {
   "cell_type": "code",
   "execution_count": null,
   "metadata": {},
   "outputs": [],
   "source": [
    "from IPython.display import HTML\n",
    "\n",
    "HTML(filename=\"train_csv.html\")"
   ]
  },
  {
   "cell_type": "markdown",
   "metadata": {},
   "source": [
    "<a id=\"section34\"></a>\n",
    "## Dropping Features"
   ]
  },
  {
   "cell_type": "code",
   "execution_count": null,
   "metadata": {
    "execution": {
     "iopub.execute_input": "2022-10-21T18:21:45.873155Z",
     "iopub.status.busy": "2022-10-21T18:21:45.872517Z",
     "iopub.status.idle": "2022-10-21T18:21:45.879589Z",
     "shell.execute_reply": "2022-10-21T18:21:45.878438Z",
     "shell.execute_reply.started": "2022-10-21T18:21:45.873118Z"
    }
   },
   "outputs": [],
   "source": [
    "#Dropping Customer ID feature\n",
    "train_df.drop('CustomerID',axis = 1,inplace = True)\n",
    "\n",
    "# Dropping MonthlyCharges because TotalCharges=AccountAge*MonthlyCharges\n",
    "train_df.drop('MonthlyCharges',axis = 1,inplace = True)"
   ]
  },
  {
   "cell_type": "markdown",
   "metadata": {},
   "source": [
    "<a id=\"section35\"></a>\n",
    "## Visualization "
   ]
  },
  {
   "cell_type": "code",
   "execution_count": null,
   "metadata": {},
   "outputs": [],
   "source": [
    "# Check outlier"
   ]
  },
  {
   "cell_type": "code",
   "execution_count": null,
   "metadata": {},
   "outputs": [],
   "source": [
    "# category features\n",
    "category_features = train_df.select_dtypes(include='object')\n",
    "for feature in category_features:\n",
    "    fig = px.histogram(train_df,x=feature, color = 'Churn',barmode = 'group', text_auto=True)\n",
    "    fig.update_layout(width=400, height=200)\n",
    "    fig.show()"
   ]
  },
  {
   "cell_type": "code",
   "execution_count": null,
   "metadata": {},
   "outputs": [],
   "source": [
    "numeric_features = train_df.select_dtypes(include='number')\n",
    "for feature in numeric_features:\n",
    "    # Calculate mean value of col for each target\n",
    "    mean_by_target = train_df.groupby('Churn')[feature].mean()\n",
    "    # Plot a histogram with the mean value of col for each target\n",
    "    fig = px.histogram(mean_by_target, x=feature, color=mean_by_target.index, barmode='group')\n",
    "    # Display the figure\n",
    "    fig.show()"
   ]
  },
  {
   "cell_type": "markdown",
   "metadata": {},
   "source": [
    "<a id=\"section36\"></a>\n",
    "## Check outlier "
   ]
  },
  {
   "cell_type": "code",
   "execution_count": null,
   "metadata": {},
   "outputs": [],
   "source": [
    "# For numerical columns, remove boolean columns and Churn columns\n",
    "outlier_columns = ['AccountAge', 'TotalCharges', \n",
    "       'ViewingHoursPerWeek', 'AverageViewingDuration',\n",
    "       'ContentDownloadsPerMonth', 'UserRating', 'SupportTicketsPerMonth',\n",
    "       'WatchlistSize']\n",
    "\n",
    "# Create box plots for numerical columns with outliers\n",
    "for column in outlier_columns:\n",
    "    fig = px.box(train_df, y=column)\n",
    "    fig.update_layout(title=f'Outliers in {column}',\n",
    "                      xaxis_title='Values',\n",
    "                      yaxis_title=column)\n",
    "    fig.update_layout(width=800, height=400)\n",
    "    fig.show()"
   ]
  },
  {
   "cell_type": "markdown",
   "metadata": {},
   "source": [
    "<a id=\"section35\"></a>\n",
    "## Correlation "
   ]
  },
  {
   "cell_type": "code",
   "execution_count": null,
   "metadata": {
    "scrolled": true
   },
   "outputs": [],
   "source": [
    "# plotting correlation matrix to notice relationships or lack of it between variables\n",
    "corr = train_df.select_dtypes(include=['number']).corr()\n",
    "\n",
    "fig = px.imshow(corr, x=corr.columns, y=corr.index, color_continuous_scale='RdBu_r', text_auto=True)\n",
    "# Make the figure size bigger\n",
    "fig.update_layout(width=900, height=900)\n",
    "\n",
    "fig.show()"
   ]
  },
  {
   "cell_type": "code",
   "execution_count": null,
   "metadata": {},
   "outputs": [],
   "source": [
    "# remove correlation values\n",
    "\n",
    "# Find all correlation values greater than 0.9\n",
    "corr_values = corr.where(corr > 0.8).unstack()\n",
    "\n",
    "# Get the column names of the correlated features\n",
    "correlated_features = corr_values.dropna().index.to_list()\n",
    "print(correlated_features)\n",
    "\n",
    "# Remove the correlated features from the DataFrame\n",
    "# data.drop(columns=correlated_features, inplace=True)"
   ]
  },
  {
   "cell_type": "code",
   "execution_count": null,
   "metadata": {},
   "outputs": [],
   "source": [
    "# sort correlation values of feature Churn\n",
    "corr['Churn'].sort_values(ascending=False)"
   ]
  },
  {
   "cell_type": "markdown",
   "metadata": {},
   "source": [
    "<a id=\"section4\"></a>\n",
    "# Data Prep"
   ]
  },
  {
   "cell_type": "markdown",
   "metadata": {},
   "source": [
    "<a id=\"section41\"></a>\n",
    "## Category Features"
   ]
  },
  {
   "cell_type": "markdown",
   "metadata": {},
   "source": [
    "<a id=\"section411\"></a>\n",
    "### LabelEncoder"
   ]
  },
  {
   "cell_type": "code",
   "execution_count": null,
   "metadata": {
    "execution": {
     "iopub.execute_input": "2022-10-21T18:21:49.360115Z",
     "iopub.status.busy": "2022-10-21T18:21:49.358928Z",
     "iopub.status.idle": "2022-10-21T18:21:49.372166Z",
     "shell.execute_reply": "2022-10-21T18:21:49.370734Z",
     "shell.execute_reply.started": "2022-10-21T18:21:49.360060Z"
    }
   },
   "outputs": [],
   "source": [
    "# Convering Categorical Features into numerical features using LabelEncoder\n",
    "train_df_copy = train_df.copy() # this is just for OneHotEncoder demo purpose \n",
    "# category features\n",
    "for feature in category_features:\n",
    "    train_df[feature] = LabelEncoder().fit_transform(train_df[feature])"
   ]
  },
  {
   "cell_type": "code",
   "execution_count": null,
   "metadata": {},
   "outputs": [],
   "source": [
    "train_df.head()"
   ]
  },
  {
   "cell_type": "markdown",
   "metadata": {},
   "source": [
    "<a id=\"section412\"></a>\n",
    "### OneHotEncoder"
   ]
  },
  {
   "cell_type": "markdown",
   "metadata": {},
   "source": [
    "**In this example, the distinction between LabelEncoder and OneHotEncoder is negligible after testing. This section merely demonstrates the concept, and it is not utilized further in the process**"
   ]
  },
  {
   "cell_type": "code",
   "execution_count": null,
   "metadata": {},
   "outputs": [],
   "source": [
    "train_df_copy = pd.get_dummies(train_df_copy, columns=category_features.columns.tolist())\n",
    "train_df_copy.head()"
   ]
  },
  {
   "cell_type": "markdown",
   "metadata": {},
   "source": [
    "<a id=\"section42\"></a>\n",
    "## StandardScaler"
   ]
  },
  {
   "cell_type": "code",
   "execution_count": null,
   "metadata": {
    "execution": {
     "iopub.execute_input": "2022-10-21T18:21:49.375222Z",
     "iopub.status.busy": "2022-10-21T18:21:49.374122Z",
     "iopub.status.idle": "2022-10-21T18:21:49.399889Z",
     "shell.execute_reply": "2022-10-21T18:21:49.398486Z",
     "shell.execute_reply.started": "2022-10-21T18:21:49.375180Z"
    }
   },
   "outputs": [],
   "source": [
    "X_train, X_test, y_train, y_test = train_test_split(train_df.drop(columns=[\"Churn\"]), train_df[\"Churn\"], test_size=0.25, random_state=42)\n",
    "\n",
    "ss = StandardScaler()\n",
    "X_train = ss.fit_transform(X_train)\n",
    "X_test = ss.transform(X_test)"
   ]
  },
  {
   "cell_type": "markdown",
   "metadata": {},
   "source": [
    "<a id=\"section5\"></a>\n",
    "# Modelling"
   ]
  },
  {
   "cell_type": "markdown",
   "metadata": {},
   "source": [
    "<a id=\"section51\"></a>\n",
    "## RandomForestClassifier"
   ]
  },
  {
   "cell_type": "code",
   "execution_count": null,
   "metadata": {
    "scrolled": true
   },
   "outputs": [],
   "source": [
    "from sklearn.ensemble import RandomForestClassifier\n",
    "from sklearn.metrics import classification_report\n",
    "from sklearn.metrics import accuracy_score, f1_score\n",
    "\n",
    "rfc = RandomForestClassifier()\n",
    "print(rfc.get_params())\n",
    "rfc.fit(X_train, y_train)\n",
    "y_pred_rfc = rfc.predict(X_test)\n",
    "print(classification_report(y_test, y_pred_rfc))\n",
    "print('Accuracy Score : ' + str(round(accuracy_score(y_test,y_pred_rfc),3)))\n",
    "print('F1 Score : ' + str(round(f1_score(y_test,y_pred_rfc),3)))"
   ]
  },
  {
   "cell_type": "markdown",
   "metadata": {},
   "source": [
    "<a id=\"section52\"></a>\n",
    "## XGBClassifier"
   ]
  },
  {
   "cell_type": "code",
   "execution_count": null,
   "metadata": {},
   "outputs": [],
   "source": [
    "import xgboost as xgb\n",
    "\n",
    "# Create an XGBClassifier object\n",
    "clf = xgb.XGBClassifier()\n",
    "\n",
    "# Fit the model to the training data\n",
    "clf.fit(X_train, y_train)\n",
    "\n",
    "# Make predictions on the test data\n",
    "y_pred = clf.predict(X_test)\n",
    "\n",
    "# Evaluate the model performance\n",
    "accuracy = clf.score(X_test, y_test)\n",
    "\n",
    "print('Accuracy Score : ' + str(round(accuracy_score(y_test,y_pred),3)))\n",
    "print('F1 Score : ' + str(round(f1_score(y_test,y_pred),3)))"
   ]
  },
  {
   "cell_type": "markdown",
   "metadata": {},
   "source": [
    "<a id=\"section53\"></a>\n",
    "## LGBMClassifier"
   ]
  },
  {
   "cell_type": "code",
   "execution_count": null,
   "metadata": {},
   "outputs": [],
   "source": [
    "import lightgbm as lgb\n",
    "\n",
    "# Create an LGBMClassifier object\n",
    "clf = lgb.LGBMClassifier()\n",
    "\n",
    "# Fit the model to the training data\n",
    "clf.fit(X_train, y_train)\n",
    "\n",
    "# Make predictions on the test data\n",
    "y_pred = clf.predict(X_test)\n",
    "\n",
    "# Evaluate the model performance\n",
    "print('Accuracy Score : ' + str(round(accuracy_score(y_test,y_pred),3)))\n",
    "print('F1 Score : ' + str(round(f1_score(y_test,y_pred),3)))"
   ]
  },
  {
   "cell_type": "markdown",
   "metadata": {},
   "source": [
    "<a id=\"section54\"></a>\n",
    "## AdaBoostClassifier"
   ]
  },
  {
   "cell_type": "code",
   "execution_count": null,
   "metadata": {},
   "outputs": [],
   "source": [
    "from sklearn.ensemble import AdaBoostClassifier\n",
    "from sklearn.tree import DecisionTreeClassifier\n",
    "\n",
    "# Create an AdaBoostClassifier object\n",
    "abc = AdaBoostClassifier(base_estimator=DecisionTreeClassifier())\n",
    "\n",
    "# Train the model\n",
    "abc.fit(X_train, y_train)\n",
    "\n",
    "# Make predictions on the test set\n",
    "y_pred = abc.predict(X_test)\n",
    "\n",
    "# Evaluate the model performance\n",
    "print('Accuracy Score : ' + str(round(accuracy_score(y_test,y_pred),3)))\n",
    "print('F1 Score : ' + str(round(f1_score(y_test,y_pred),3)))"
   ]
  },
  {
   "cell_type": "markdown",
   "metadata": {},
   "source": [
    "<a id=\"section55\"></a>\n",
    "## LazyClassifier Automation"
   ]
  },
  {
   "cell_type": "markdown",
   "metadata": {},
   "source": [
    "This is also for demo purpose"
   ]
  },
  {
   "cell_type": "markdown",
   "metadata": {},
   "source": [
    "<a id=\"section551\"></a>\n",
    "### check total number of classifiers"
   ]
  },
  {
   "cell_type": "code",
   "execution_count": null,
   "metadata": {},
   "outputs": [],
   "source": [
    "lazypredict.Supervised.CLASSIFIERS"
   ]
  },
  {
   "cell_type": "markdown",
   "metadata": {},
   "source": [
    "<a id=\"section552\"></a>\n",
    "### choose neccessary classifiers"
   ]
  },
  {
   "cell_type": "code",
   "execution_count": null,
   "metadata": {},
   "outputs": [],
   "source": [
    "classifiers = [\n",
    "  'XGBClassifier',\n",
    "  'RandomForestClassifier',\n",
    "  'LGBMClassifier',\n",
    "  'DecisionTreeClassifier',\n",
    "  'SGDClassifier'\n",
    "]"
   ]
  },
  {
   "cell_type": "code",
   "execution_count": null,
   "metadata": {},
   "outputs": [],
   "source": [
    "lazypredict.Supervised.CLASSIFIERS = [tup for tup in lazypredict.Supervised.CLASSIFIERS if tup[0] in classifiers]\n",
    "lazypredict.Supervised.CLASSIFIERS"
   ]
  },
  {
   "cell_type": "code",
   "execution_count": null,
   "metadata": {
    "execution": {
     "iopub.execute_input": "2022-10-21T18:21:49.402517Z",
     "iopub.status.busy": "2022-10-21T18:21:49.401726Z",
     "iopub.status.idle": "2022-10-21T18:22:06.223094Z",
     "shell.execute_reply": "2022-10-21T18:22:06.222166Z",
     "shell.execute_reply.started": "2022-10-21T18:21:49.402454Z"
    }
   },
   "outputs": [],
   "source": [
    "clf = LazyClassifier(verbose=0, ignore_warnings=True, custom_metric = None)\n",
    "models,predictions = clf.fit(X_train, X_test, y_train, y_test)"
   ]
  },
  {
   "cell_type": "code",
   "execution_count": null,
   "metadata": {
    "execution": {
     "iopub.execute_input": "2022-10-21T18:22:06.226675Z",
     "iopub.status.busy": "2022-10-21T18:22:06.226274Z",
     "iopub.status.idle": "2022-10-21T18:22:06.238207Z",
     "shell.execute_reply": "2022-10-21T18:22:06.236091Z",
     "shell.execute_reply.started": "2022-10-21T18:22:06.226643Z"
    }
   },
   "outputs": [],
   "source": [
    "print(models)\n"
   ]
  },
  {
   "cell_type": "markdown",
   "metadata": {},
   "source": [
    "<a id=\"section53\"></a>\n",
    "<div style=\"font-size:15px; font-family:verdana;\"><h4 style=\"font-family:verdana;\">Accuracy Vs Model:</h4>"
   ]
  },
  {
   "cell_type": "code",
   "execution_count": null,
   "metadata": {
    "execution": {
     "iopub.execute_input": "2022-10-21T18:22:06.240390Z",
     "iopub.status.busy": "2022-10-21T18:22:06.240036Z",
     "iopub.status.idle": "2022-10-21T18:22:06.356796Z",
     "shell.execute_reply": "2022-10-21T18:22:06.355554Z",
     "shell.execute_reply.started": "2022-10-21T18:22:06.240360Z"
    }
   },
   "outputs": [],
   "source": [
    "models.sort_values(by = 'Accuracy',inplace = True,ascending = False)\n",
    "line = px.line(data_frame= models ,y =[\"Accuracy\"] , markers = True)\n",
    "line.update_xaxes(title=\"Model\",\n",
    "              rangeslider_visible = False)\n",
    "line.update_yaxes(title = \"Accuracy\")\n",
    "line.update_traces(line_color=\"red\")\n",
    "line.update_layout(showlegend = True,\n",
    "    title = {\n",
    "        'text': 'Accuracy vs Model'})\n",
    "\n",
    "line.show()"
   ]
  },
  {
   "cell_type": "markdown",
   "metadata": {},
   "source": [
    "<a id=\"section54\"></a>\n",
    "<div style=\"font-size:15px; font-family:verdana;\"><h4 style=\"font-family:verdana;\">Time Taken Vs Model:</h4>"
   ]
  },
  {
   "cell_type": "code",
   "execution_count": null,
   "metadata": {
    "execution": {
     "iopub.execute_input": "2022-10-21T18:22:06.359084Z",
     "iopub.status.busy": "2022-10-21T18:22:06.358583Z",
     "iopub.status.idle": "2022-10-21T18:22:06.436694Z",
     "shell.execute_reply": "2022-10-21T18:22:06.435179Z",
     "shell.execute_reply.started": "2022-10-21T18:22:06.359039Z"
    }
   },
   "outputs": [],
   "source": [
    "models.sort_values(by = 'Time Taken',inplace = True,ascending = False)\n",
    "line = px.line(data_frame= models ,y =[\"Time Taken\"] , markers = True)\n",
    "line.update_xaxes(title=\"Model\")\n",
    "line.update_yaxes(title = \"Time Taken\")\n",
    "line.update_traces(line_color=\"blue\")\n",
    "line.update_layout(showlegend = True,\n",
    "    title = {\n",
    "        'text': 'Time Taken Vs Model'})\n",
    "\n",
    "line.show()"
   ]
  }
 ],
 "metadata": {
  "kernelspec": {
   "display_name": "Python 3 (ipykernel)",
   "language": "python",
   "name": "python3"
  },
  "language_info": {
   "codemirror_mode": {
    "name": "ipython",
    "version": 3
   },
   "file_extension": ".py",
   "mimetype": "text/x-python",
   "name": "python",
   "nbconvert_exporter": "python",
   "pygments_lexer": "ipython3",
   "version": "3.11.5"
  }
 },
 "nbformat": 4,
 "nbformat_minor": 4
}
