{
 "cells": [
  {
   "cell_type": "markdown",
   "id": "65049c47",
   "metadata": {
    "papermill": {
     "duration": 0.030404,
     "end_time": "2023-02-02T17:15:54.809507",
     "exception": false,
     "start_time": "2023-02-02T17:15:54.779103",
     "status": "completed"
    },
    "tags": []
   },
   "source": [
    "# Content <a id = \"cont\"></a>\n",
    "- [Dataset](#1)\n",
    "- [EDA](#2)\n",
    "- [CLTV](#4)\n",
    "    - [Data Prep](#4a)\n",
    "    - [BG-NBD](#4c)\n",
    "    - [Gamma Gamma](#4d)\n",
    "    - [Segmentation](#4e)\n",
    "    - [Model Validation](#4f)"
   ]
  },
  {
   "cell_type": "code",
   "execution_count": 1,
   "id": "e358a741",
   "metadata": {
    "execution": {
     "iopub.execute_input": "2023-02-02T17:15:54.871684Z",
     "iopub.status.busy": "2023-02-02T17:15:54.871070Z",
     "iopub.status.idle": "2023-02-02T17:16:09.887787Z",
     "shell.execute_reply": "2023-02-02T17:16:09.886195Z"
    },
    "papermill": {
     "duration": 15.051343,
     "end_time": "2023-02-02T17:16:09.890693",
     "exception": false,
     "start_time": "2023-02-02T17:15:54.839350",
     "status": "completed"
    },
    "tags": []
   },
   "outputs": [],
   "source": [
    "# !pip install pandas\n",
    "# !pip install plotly\n",
    "# !pip install scikit-learn\n",
    "# !pip install lifetimes\n",
    "# !pip install duckdb"
   ]
  },
  {
   "cell_type": "code",
   "execution_count": 2,
   "id": "cef93da5",
   "metadata": {
    "_cell_guid": "b1076dfc-b9ad-4769-8c92-a6c4dae69d19",
    "_uuid": "8f2839f25d086af736a60e9eeb907d3b93b6e0e5",
    "execution": {
     "iopub.execute_input": "2023-02-02T17:16:09.955752Z",
     "iopub.status.busy": "2023-02-02T17:16:09.955290Z",
     "iopub.status.idle": "2023-02-02T17:16:11.069304Z",
     "shell.execute_reply": "2023-02-02T17:16:11.068334Z"
    },
    "papermill": {
     "duration": 1.149866,
     "end_time": "2023-02-02T17:16:11.072293",
     "exception": false,
     "start_time": "2023-02-02T17:16:09.922427",
     "status": "completed"
    },
    "tags": []
   },
   "outputs": [],
   "source": [
    "import numpy as np \n",
    "import pandas as pd \n",
    "import datetime as dt\n",
    "import plotly.express as px\n",
    "import duckdb"
   ]
  },
  {
   "cell_type": "markdown",
   "id": "637c8e4c",
   "metadata": {},
   "source": [
    "# Dataset <a id = \"1\"> </a>"
   ]
  },
  {
   "cell_type": "markdown",
   "id": "3f6594ff",
   "metadata": {},
   "source": [
    "- [https://archive.ics.uci.edu/ml/datasets/Online+Retail+II](https://archive.ics.uci.edu/ml/datasets/Online+Retail+II)  OR\n",
    "- download from [Kaggle Dataset](https://www.kaggle.com/datasets/mashlyn/online-retail-ii-uci/data?select=online_retail_II.csv) too."
   ]
  },
  {
   "cell_type": "code",
   "execution_count": 3,
   "id": "61e60c85",
   "metadata": {
    "execution": {
     "iopub.execute_input": "2023-02-02T17:16:11.138603Z",
     "iopub.status.busy": "2023-02-02T17:16:11.136969Z",
     "iopub.status.idle": "2023-02-02T17:16:13.733432Z",
     "shell.execute_reply": "2023-02-02T17:16:13.732465Z"
    },
    "papermill": {
     "duration": 2.631755,
     "end_time": "2023-02-02T17:16:13.736096",
     "exception": false,
     "start_time": "2023-02-02T17:16:11.104341",
     "status": "completed"
    },
    "tags": []
   },
   "outputs": [
    {
     "data": {
      "text/html": [
       "<div>\n",
       "<style scoped>\n",
       "    .dataframe tbody tr th:only-of-type {\n",
       "        vertical-align: middle;\n",
       "    }\n",
       "\n",
       "    .dataframe tbody tr th {\n",
       "        vertical-align: top;\n",
       "    }\n",
       "\n",
       "    .dataframe thead th {\n",
       "        text-align: right;\n",
       "    }\n",
       "</style>\n",
       "<table border=\"1\" class=\"dataframe\">\n",
       "  <thead>\n",
       "    <tr style=\"text-align: right;\">\n",
       "      <th></th>\n",
       "      <th>Invoice</th>\n",
       "      <th>StockCode</th>\n",
       "      <th>Description</th>\n",
       "      <th>Quantity</th>\n",
       "      <th>InvoiceDate</th>\n",
       "      <th>Price</th>\n",
       "      <th>Customer ID</th>\n",
       "      <th>Country</th>\n",
       "    </tr>\n",
       "  </thead>\n",
       "  <tbody>\n",
       "    <tr>\n",
       "      <th>0</th>\n",
       "      <td>489434</td>\n",
       "      <td>85048</td>\n",
       "      <td>15CM CHRISTMAS GLASS BALL 20 LIGHTS</td>\n",
       "      <td>12</td>\n",
       "      <td>2009-12-01 07:45:00</td>\n",
       "      <td>6.95</td>\n",
       "      <td>13085.0</td>\n",
       "      <td>United Kingdom</td>\n",
       "    </tr>\n",
       "    <tr>\n",
       "      <th>1</th>\n",
       "      <td>489434</td>\n",
       "      <td>79323P</td>\n",
       "      <td>PINK CHERRY LIGHTS</td>\n",
       "      <td>12</td>\n",
       "      <td>2009-12-01 07:45:00</td>\n",
       "      <td>6.75</td>\n",
       "      <td>13085.0</td>\n",
       "      <td>United Kingdom</td>\n",
       "    </tr>\n",
       "    <tr>\n",
       "      <th>2</th>\n",
       "      <td>489434</td>\n",
       "      <td>79323W</td>\n",
       "      <td>WHITE CHERRY LIGHTS</td>\n",
       "      <td>12</td>\n",
       "      <td>2009-12-01 07:45:00</td>\n",
       "      <td>6.75</td>\n",
       "      <td>13085.0</td>\n",
       "      <td>United Kingdom</td>\n",
       "    </tr>\n",
       "    <tr>\n",
       "      <th>3</th>\n",
       "      <td>489434</td>\n",
       "      <td>22041</td>\n",
       "      <td>RECORD FRAME 7\" SINGLE SIZE</td>\n",
       "      <td>48</td>\n",
       "      <td>2009-12-01 07:45:00</td>\n",
       "      <td>2.10</td>\n",
       "      <td>13085.0</td>\n",
       "      <td>United Kingdom</td>\n",
       "    </tr>\n",
       "    <tr>\n",
       "      <th>4</th>\n",
       "      <td>489434</td>\n",
       "      <td>21232</td>\n",
       "      <td>STRAWBERRY CERAMIC TRINKET BOX</td>\n",
       "      <td>24</td>\n",
       "      <td>2009-12-01 07:45:00</td>\n",
       "      <td>1.25</td>\n",
       "      <td>13085.0</td>\n",
       "      <td>United Kingdom</td>\n",
       "    </tr>\n",
       "  </tbody>\n",
       "</table>\n",
       "</div>"
      ],
      "text/plain": [
       "  Invoice StockCode                          Description  Quantity  \\\n",
       "0  489434     85048  15CM CHRISTMAS GLASS BALL 20 LIGHTS        12   \n",
       "1  489434    79323P                   PINK CHERRY LIGHTS        12   \n",
       "2  489434    79323W                  WHITE CHERRY LIGHTS        12   \n",
       "3  489434     22041         RECORD FRAME 7\" SINGLE SIZE         48   \n",
       "4  489434     21232       STRAWBERRY CERAMIC TRINKET BOX        24   \n",
       "\n",
       "           InvoiceDate  Price  Customer ID         Country  \n",
       "0  2009-12-01 07:45:00   6.95      13085.0  United Kingdom  \n",
       "1  2009-12-01 07:45:00   6.75      13085.0  United Kingdom  \n",
       "2  2009-12-01 07:45:00   6.75      13085.0  United Kingdom  \n",
       "3  2009-12-01 07:45:00   2.10      13085.0  United Kingdom  \n",
       "4  2009-12-01 07:45:00   1.25      13085.0  United Kingdom  "
      ]
     },
     "execution_count": 3,
     "metadata": {},
     "output_type": "execute_result"
    }
   ],
   "source": [
    "# Read Dataset\n",
    "data = pd.read_csv(\"online_retail_II.csv\")\n",
    "data.head()"
   ]
  },
  {
   "cell_type": "markdown",
   "id": "aac622de",
   "metadata": {
    "papermill": {
     "duration": 0.03068,
     "end_time": "2023-02-02T17:16:13.797953",
     "exception": false,
     "start_time": "2023-02-02T17:16:13.767273",
     "status": "completed"
    },
    "tags": []
   },
   "source": [
    "# EDA <a id = \"2\"> </a>"
   ]
  },
  {
   "cell_type": "code",
   "execution_count": 4,
   "id": "a8c88274",
   "metadata": {},
   "outputs": [],
   "source": [
    "##-- standardize column names\n",
    "# data.columns = data.columns.str.replace(' ', '_').str.lower()\n",
    "data.columns = data.columns.str.replace(' ', '_')"
   ]
  },
  {
   "cell_type": "code",
   "execution_count": 5,
   "id": "d00aa62e",
   "metadata": {},
   "outputs": [
    {
     "data": {
      "text/plain": [
       "(1067371, 8)"
      ]
     },
     "execution_count": 5,
     "metadata": {},
     "output_type": "execute_result"
    }
   ],
   "source": [
    "# check shape\n",
    "data.shape"
   ]
  },
  {
   "cell_type": "code",
   "execution_count": 6,
   "id": "2bffe675",
   "metadata": {},
   "outputs": [
    {
     "name": "stdout",
     "output_type": "stream",
     "text": [
      "<class 'pandas.core.frame.DataFrame'>\n",
      "RangeIndex: 1067371 entries, 0 to 1067370\n",
      "Data columns (total 8 columns):\n",
      " #   Column       Non-Null Count    Dtype  \n",
      "---  ------       --------------    -----  \n",
      " 0   Invoice      1067371 non-null  object \n",
      " 1   StockCode    1067371 non-null  object \n",
      " 2   Description  1062989 non-null  object \n",
      " 3   Quantity     1067371 non-null  int64  \n",
      " 4   InvoiceDate  1067371 non-null  object \n",
      " 5   Price        1067371 non-null  float64\n",
      " 6   Customer_ID  824364 non-null   float64\n",
      " 7   Country      1067371 non-null  object \n",
      "dtypes: float64(2), int64(1), object(5)\n",
      "memory usage: 65.1+ MB\n"
     ]
    }
   ],
   "source": [
    "# check info\n",
    "data.info()"
   ]
  },
  {
   "cell_type": "code",
   "execution_count": 7,
   "id": "0225f2aa",
   "metadata": {},
   "outputs": [],
   "source": [
    "## convert date to datetime\n",
    "data['InvoiceDate'] = pd.to_datetime(data['InvoiceDate'])\n",
    "# to date only\n",
    "data['InvoiceDate'] = data['InvoiceDate'].dt.date"
   ]
  },
  {
   "cell_type": "code",
   "execution_count": 8,
   "id": "ea526b7e",
   "metadata": {},
   "outputs": [
    {
     "data": {
      "text/plain": [
       "Invoice             0\n",
       "StockCode           0\n",
       "Description      4382\n",
       "Quantity            0\n",
       "InvoiceDate         0\n",
       "Price               0\n",
       "Customer_ID    243007\n",
       "Country             0\n",
       "dtype: int64"
      ]
     },
     "execution_count": 8,
     "metadata": {},
     "output_type": "execute_result"
    }
   ],
   "source": [
    "# column null value count\n",
    "data.isnull().sum()"
   ]
  },
  {
   "cell_type": "code",
   "execution_count": 9,
   "id": "213a2d96",
   "metadata": {},
   "outputs": [
    {
     "data": {
      "text/plain": [
       "Invoice        53628\n",
       "StockCode       5305\n",
       "Description     5698\n",
       "Quantity        1057\n",
       "InvoiceDate      604\n",
       "Price           2807\n",
       "Customer_ID     5942\n",
       "Country           43\n",
       "dtype: int64"
      ]
     },
     "execution_count": 9,
     "metadata": {},
     "output_type": "execute_result"
    }
   ],
   "source": [
    "# column unique value check\n",
    "data.nunique()"
   ]
  },
  {
   "cell_type": "code",
   "execution_count": 10,
   "id": "8e82e5a6",
   "metadata": {},
   "outputs": [],
   "source": [
    "# flag return orders\n",
    "data['isReturn'] = data[\"Invoice\"].str.contains(\"C\", na=False)"
   ]
  },
  {
   "cell_type": "code",
   "execution_count": 11,
   "id": "418bce70",
   "metadata": {},
   "outputs": [],
   "source": [
    "# flag adjusted orders\n",
    "data['isAdjusted'] = data[\"Invoice\"].str.contains(\"A\", na=False)"
   ]
  },
  {
   "cell_type": "code",
   "execution_count": 12,
   "id": "c105b304",
   "metadata": {},
   "outputs": [
    {
     "data": {
      "text/plain": [
       "isReturn\n",
       "False    1047877\n",
       "True       19494\n",
       "Name: count, dtype: int64"
      ]
     },
     "execution_count": 12,
     "metadata": {},
     "output_type": "execute_result"
    }
   ],
   "source": [
    "# get counts for each value\n",
    "data['isReturn'].value_counts()"
   ]
  },
  {
   "cell_type": "code",
   "execution_count": 13,
   "id": "ee6fde49",
   "metadata": {},
   "outputs": [
    {
     "data": {
      "text/plain": [
       "isAdjusted\n",
       "False    1067365\n",
       "True           6\n",
       "Name: count, dtype: int64"
      ]
     },
     "execution_count": 13,
     "metadata": {},
     "output_type": "execute_result"
    }
   ],
   "source": [
    "data['isAdjusted'].value_counts() "
   ]
  },
  {
   "cell_type": "code",
   "execution_count": 14,
   "id": "fd571789",
   "metadata": {},
   "outputs": [],
   "source": [
    "# remove returned and adjusted orders\n",
    "data = data[(data['isReturn'] == False) & (data['isAdjusted'] == False)]"
   ]
  },
  {
   "cell_type": "code",
   "execution_count": 15,
   "id": "026ea15d",
   "metadata": {
    "execution": {
     "iopub.execute_input": "2023-02-02T17:16:14.026037Z",
     "iopub.status.busy": "2023-02-02T17:16:14.024941Z",
     "iopub.status.idle": "2023-02-02T17:16:14.715518Z",
     "shell.execute_reply": "2023-02-02T17:16:14.714277Z"
    },
    "papermill": {
     "duration": 0.725677,
     "end_time": "2023-02-02T17:16:14.718035",
     "exception": false,
     "start_time": "2023-02-02T17:16:13.992358",
     "status": "completed"
    },
    "tags": []
   },
   "outputs": [],
   "source": [
    "# calculate stock total\n",
    "data['TotalPrice'] = data['Quantity'] * data['Price']"
   ]
  },
  {
   "cell_type": "code",
   "execution_count": 16,
   "id": "4e266254",
   "metadata": {},
   "outputs": [],
   "source": [
    "# remove Quantity <= 0 orders or price <= 0 orders\n",
    "data = data[data['Quantity'] >= 0]\n",
    "data = data[data[\"Price\"] >= 0]"
   ]
  },
  {
   "cell_type": "code",
   "execution_count": 17,
   "id": "93cf6b31",
   "metadata": {
    "execution": {
     "iopub.execute_input": "2023-02-02T17:16:16.068481Z",
     "iopub.status.busy": "2023-02-02T17:16:16.067407Z",
     "iopub.status.idle": "2023-02-02T17:16:16.619019Z",
     "shell.execute_reply": "2023-02-02T17:16:16.617882Z"
    },
    "papermill": {
     "duration": 0.58763,
     "end_time": "2023-02-02T17:16:16.621359",
     "exception": false,
     "start_time": "2023-02-02T17:16:16.033729",
     "status": "completed"
    },
    "tags": []
   },
   "outputs": [
    {
     "data": {
      "text/html": [
       "<div>\n",
       "<style scoped>\n",
       "    .dataframe tbody tr th:only-of-type {\n",
       "        vertical-align: middle;\n",
       "    }\n",
       "\n",
       "    .dataframe tbody tr th {\n",
       "        vertical-align: top;\n",
       "    }\n",
       "\n",
       "    .dataframe thead th {\n",
       "        text-align: right;\n",
       "    }\n",
       "</style>\n",
       "<table border=\"1\" class=\"dataframe\">\n",
       "  <thead>\n",
       "    <tr style=\"text-align: right;\">\n",
       "      <th></th>\n",
       "      <th>Invoice</th>\n",
       "      <th>StockCode</th>\n",
       "      <th>Description</th>\n",
       "      <th>Quantity</th>\n",
       "      <th>InvoiceDate</th>\n",
       "      <th>Price</th>\n",
       "      <th>Customer_ID</th>\n",
       "      <th>Country</th>\n",
       "      <th>isReturn</th>\n",
       "      <th>isAdjusted</th>\n",
       "      <th>TotalPrice</th>\n",
       "    </tr>\n",
       "  </thead>\n",
       "  <tbody>\n",
       "    <tr>\n",
       "      <th>1065882</th>\n",
       "      <td>581483</td>\n",
       "      <td>23843</td>\n",
       "      <td>PAPER CRAFT , LITTLE BIRDIE</td>\n",
       "      <td>80995</td>\n",
       "      <td>2011-12-09</td>\n",
       "      <td>2.08</td>\n",
       "      <td>16446.0</td>\n",
       "      <td>United Kingdom</td>\n",
       "      <td>False</td>\n",
       "      <td>False</td>\n",
       "      <td>168469.60</td>\n",
       "    </tr>\n",
       "    <tr>\n",
       "      <th>587080</th>\n",
       "      <td>541431</td>\n",
       "      <td>23166</td>\n",
       "      <td>MEDIUM CERAMIC TOP STORAGE JAR</td>\n",
       "      <td>74215</td>\n",
       "      <td>2011-01-18</td>\n",
       "      <td>1.04</td>\n",
       "      <td>12346.0</td>\n",
       "      <td>United Kingdom</td>\n",
       "      <td>False</td>\n",
       "      <td>False</td>\n",
       "      <td>77183.60</td>\n",
       "    </tr>\n",
       "    <tr>\n",
       "      <th>748132</th>\n",
       "      <td>556444</td>\n",
       "      <td>22502</td>\n",
       "      <td>PICNIC BASKET WICKER 60 PIECES</td>\n",
       "      <td>60</td>\n",
       "      <td>2011-06-10</td>\n",
       "      <td>649.50</td>\n",
       "      <td>15098.0</td>\n",
       "      <td>United Kingdom</td>\n",
       "      <td>False</td>\n",
       "      <td>False</td>\n",
       "      <td>38970.00</td>\n",
       "    </tr>\n",
       "    <tr>\n",
       "      <th>241827</th>\n",
       "      <td>512771</td>\n",
       "      <td>M</td>\n",
       "      <td>Manual</td>\n",
       "      <td>1</td>\n",
       "      <td>2010-06-17</td>\n",
       "      <td>25111.09</td>\n",
       "      <td>NaN</td>\n",
       "      <td>United Kingdom</td>\n",
       "      <td>False</td>\n",
       "      <td>False</td>\n",
       "      <td>25111.09</td>\n",
       "    </tr>\n",
       "    <tr>\n",
       "      <th>432176</th>\n",
       "      <td>530715</td>\n",
       "      <td>84347</td>\n",
       "      <td>ROTATING SILVER ANGELS T-LIGHT HLDR</td>\n",
       "      <td>9360</td>\n",
       "      <td>2010-11-04</td>\n",
       "      <td>1.69</td>\n",
       "      <td>15838.0</td>\n",
       "      <td>United Kingdom</td>\n",
       "      <td>False</td>\n",
       "      <td>False</td>\n",
       "      <td>15818.40</td>\n",
       "    </tr>\n",
       "  </tbody>\n",
       "</table>\n",
       "</div>"
      ],
      "text/plain": [
       "        Invoice StockCode                          Description  Quantity  \\\n",
       "1065882  581483     23843          PAPER CRAFT , LITTLE BIRDIE     80995   \n",
       "587080   541431     23166       MEDIUM CERAMIC TOP STORAGE JAR     74215   \n",
       "748132   556444     22502       PICNIC BASKET WICKER 60 PIECES        60   \n",
       "241827   512771         M                               Manual         1   \n",
       "432176   530715     84347  ROTATING SILVER ANGELS T-LIGHT HLDR      9360   \n",
       "\n",
       "        InvoiceDate     Price  Customer_ID         Country  isReturn  \\\n",
       "1065882  2011-12-09      2.08      16446.0  United Kingdom     False   \n",
       "587080   2011-01-18      1.04      12346.0  United Kingdom     False   \n",
       "748132   2011-06-10    649.50      15098.0  United Kingdom     False   \n",
       "241827   2010-06-17  25111.09          NaN  United Kingdom     False   \n",
       "432176   2010-11-04      1.69      15838.0  United Kingdom     False   \n",
       "\n",
       "         isAdjusted  TotalPrice  \n",
       "1065882       False   168469.60  \n",
       "587080        False    77183.60  \n",
       "748132        False    38970.00  \n",
       "241827        False    25111.09  \n",
       "432176        False    15818.40  "
      ]
     },
     "execution_count": 17,
     "metadata": {},
     "output_type": "execute_result"
    }
   ],
   "source": [
    "# Dataset ordered from lowest price to highest price\n",
    "data.sort_values(by = \"TotalPrice\", ascending  = False).head()"
   ]
  },
  {
   "cell_type": "code",
   "execution_count": 18,
   "id": "08439f3f",
   "metadata": {},
   "outputs": [
    {
     "name": "stdout",
     "output_type": "stream",
     "text": [
      "2009-12-01 2011-12-09\n"
     ]
    }
   ],
   "source": [
    "print(data[\"InvoiceDate\"].min(), data[\"InvoiceDate\"].max())"
   ]
  },
  {
   "cell_type": "code",
   "execution_count": 19,
   "id": "28ab11a7",
   "metadata": {},
   "outputs": [
    {
     "data": {
      "text/plain": [
       "(1044414, 11)"
      ]
     },
     "execution_count": 19,
     "metadata": {},
     "output_type": "execute_result"
    }
   ],
   "source": [
    "data.shape"
   ]
  },
  {
   "cell_type": "markdown",
   "id": "f0b98f4a",
   "metadata": {
    "papermill": {
     "duration": 0.123827,
     "end_time": "2023-02-02T17:18:13.637514",
     "exception": false,
     "start_time": "2023-02-02T17:18:13.513687",
     "status": "completed"
    },
    "tags": []
   },
   "source": [
    "# CLTV <a id = \"4\"></a>\n",
    "<center>\n",
    "<div class=\"alert alert-block alert-info\">\n",
    "<b>What is the CLTV(Customer lifetime value)?</b> </div></center>\n",
    "\n",
    "<div style=\"width:100%;text-align: center;\"> <img align=middle src=\"https://www.namogoo.com/wp-content/uploads/2021/08/featured-1.jpg\" alt=\"Heat beating\" style=\"height:300px;margin-top:1rem;margin-bottom:1rem;\"> </div>\n",
    "Customer Lifetime Value (CLTV) is a prediction of the net profit attributed to the entire future relationship with a customer. It estimates the total value a business will derive from a customer relationship, taking into account the revenue, costs, and customer behavior patterns over a defined period of time. CLTV helps businesses understand the value of customer acquisition and retention, and guide decisions about investment in customer relationship management initiatives.\n",
    "\n",
    "\n",
    "\n",
    "**BetaGeoFitter** and **GammaGammaFitter** models are used here. \n",
    " - **BetaGeoFilter** model is used to predict how often a customer makes a purchase. \n",
    " - **GammaGammaFilter** model is used to predict how much profit a customer will bring.\n",
    "\n",
    "\n",
    "Create features as below, check [BetaGeoFitter source code link](https://github.com/CamDavidsonPilon/lifetimes/blob/e3e551ac5e0ce5cd91a4c6c74cd66ee7b4c77e5e/lifetimes/fitters/beta_geo_fitter.py) for details.\n",
    "\n",
    "**Age (T):** the time between the first transaction and current date<br>\n",
    "**Recency:** the time between the first and last transaction<br>\n",
    "**Frequency:** the amount of transactions made per consumer per period, for example, if the frequency is daily, then 1 is applied for the day’s transactions, regardless of how many have been made on that day. That said, 10 transactions made by a consumer in two days will equal two in the frequency field<br>\n",
    "**Monetary:** the average value of purchases, total/frequence<br>"
   ]
  },
  {
   "cell_type": "markdown",
   "id": "c85f2bae",
   "metadata": {
    "papermill": {
     "duration": 0.124054,
     "end_time": "2023-02-02T17:18:17.386731",
     "exception": false,
     "start_time": "2023-02-02T17:18:17.262677",
     "status": "completed"
    },
    "tags": []
   },
   "source": [
    "## Data Prep <a id=\"4a\"></a>"
   ]
  },
  {
   "cell_type": "code",
   "execution_count": 20,
   "id": "13289578",
   "metadata": {
    "execution": {
     "iopub.execute_input": "2023-02-02T17:18:17.636348Z",
     "iopub.status.busy": "2023-02-02T17:18:17.635536Z",
     "iopub.status.idle": "2023-02-02T17:18:17.650810Z",
     "shell.execute_reply": "2023-02-02T17:18:17.649688Z"
    },
    "papermill": {
     "duration": 0.142331,
     "end_time": "2023-02-02T17:18:17.653119",
     "exception": false,
     "start_time": "2023-02-02T17:18:17.510788",
     "status": "completed"
    },
    "tags": []
   },
   "outputs": [
    {
     "data": {
      "text/html": [
       "<div>\n",
       "<style scoped>\n",
       "    .dataframe tbody tr th:only-of-type {\n",
       "        vertical-align: middle;\n",
       "    }\n",
       "\n",
       "    .dataframe tbody tr th {\n",
       "        vertical-align: top;\n",
       "    }\n",
       "\n",
       "    .dataframe thead th {\n",
       "        text-align: right;\n",
       "    }\n",
       "</style>\n",
       "<table border=\"1\" class=\"dataframe\">\n",
       "  <thead>\n",
       "    <tr style=\"text-align: right;\">\n",
       "      <th></th>\n",
       "      <th>Invoice</th>\n",
       "      <th>StockCode</th>\n",
       "      <th>Description</th>\n",
       "      <th>Quantity</th>\n",
       "      <th>InvoiceDate</th>\n",
       "      <th>Price</th>\n",
       "      <th>Customer_ID</th>\n",
       "      <th>Country</th>\n",
       "      <th>isReturn</th>\n",
       "      <th>isAdjusted</th>\n",
       "      <th>TotalPrice</th>\n",
       "    </tr>\n",
       "  </thead>\n",
       "  <tbody>\n",
       "    <tr>\n",
       "      <th>0</th>\n",
       "      <td>489434</td>\n",
       "      <td>85048</td>\n",
       "      <td>15CM CHRISTMAS GLASS BALL 20 LIGHTS</td>\n",
       "      <td>12</td>\n",
       "      <td>2009-12-01</td>\n",
       "      <td>6.95</td>\n",
       "      <td>13085.0</td>\n",
       "      <td>United Kingdom</td>\n",
       "      <td>False</td>\n",
       "      <td>False</td>\n",
       "      <td>83.4</td>\n",
       "    </tr>\n",
       "    <tr>\n",
       "      <th>1</th>\n",
       "      <td>489434</td>\n",
       "      <td>79323P</td>\n",
       "      <td>PINK CHERRY LIGHTS</td>\n",
       "      <td>12</td>\n",
       "      <td>2009-12-01</td>\n",
       "      <td>6.75</td>\n",
       "      <td>13085.0</td>\n",
       "      <td>United Kingdom</td>\n",
       "      <td>False</td>\n",
       "      <td>False</td>\n",
       "      <td>81.0</td>\n",
       "    </tr>\n",
       "    <tr>\n",
       "      <th>2</th>\n",
       "      <td>489434</td>\n",
       "      <td>79323W</td>\n",
       "      <td>WHITE CHERRY LIGHTS</td>\n",
       "      <td>12</td>\n",
       "      <td>2009-12-01</td>\n",
       "      <td>6.75</td>\n",
       "      <td>13085.0</td>\n",
       "      <td>United Kingdom</td>\n",
       "      <td>False</td>\n",
       "      <td>False</td>\n",
       "      <td>81.0</td>\n",
       "    </tr>\n",
       "    <tr>\n",
       "      <th>3</th>\n",
       "      <td>489434</td>\n",
       "      <td>22041</td>\n",
       "      <td>RECORD FRAME 7\" SINGLE SIZE</td>\n",
       "      <td>48</td>\n",
       "      <td>2009-12-01</td>\n",
       "      <td>2.10</td>\n",
       "      <td>13085.0</td>\n",
       "      <td>United Kingdom</td>\n",
       "      <td>False</td>\n",
       "      <td>False</td>\n",
       "      <td>100.8</td>\n",
       "    </tr>\n",
       "    <tr>\n",
       "      <th>4</th>\n",
       "      <td>489434</td>\n",
       "      <td>21232</td>\n",
       "      <td>STRAWBERRY CERAMIC TRINKET BOX</td>\n",
       "      <td>24</td>\n",
       "      <td>2009-12-01</td>\n",
       "      <td>1.25</td>\n",
       "      <td>13085.0</td>\n",
       "      <td>United Kingdom</td>\n",
       "      <td>False</td>\n",
       "      <td>False</td>\n",
       "      <td>30.0</td>\n",
       "    </tr>\n",
       "  </tbody>\n",
       "</table>\n",
       "</div>"
      ],
      "text/plain": [
       "  Invoice StockCode                          Description  Quantity  \\\n",
       "0  489434     85048  15CM CHRISTMAS GLASS BALL 20 LIGHTS        12   \n",
       "1  489434    79323P                   PINK CHERRY LIGHTS        12   \n",
       "2  489434    79323W                  WHITE CHERRY LIGHTS        12   \n",
       "3  489434     22041         RECORD FRAME 7\" SINGLE SIZE         48   \n",
       "4  489434     21232       STRAWBERRY CERAMIC TRINKET BOX        24   \n",
       "\n",
       "  InvoiceDate  Price  Customer_ID         Country  isReturn  isAdjusted  \\\n",
       "0  2009-12-01   6.95      13085.0  United Kingdom     False       False   \n",
       "1  2009-12-01   6.75      13085.0  United Kingdom     False       False   \n",
       "2  2009-12-01   6.75      13085.0  United Kingdom     False       False   \n",
       "3  2009-12-01   2.10      13085.0  United Kingdom     False       False   \n",
       "4  2009-12-01   1.25      13085.0  United Kingdom     False       False   \n",
       "\n",
       "   TotalPrice  \n",
       "0        83.4  \n",
       "1        81.0  \n",
       "2        81.0  \n",
       "3       100.8  \n",
       "4        30.0  "
      ]
     },
     "execution_count": 20,
     "metadata": {},
     "output_type": "execute_result"
    }
   ],
   "source": [
    "data.head()"
   ]
  },
  {
   "cell_type": "code",
   "execution_count": 21,
   "id": "bb178d5c",
   "metadata": {
    "execution": {
     "iopub.execute_input": "2023-02-02T17:18:17.905904Z",
     "iopub.status.busy": "2023-02-02T17:18:17.905230Z",
     "iopub.status.idle": "2023-02-02T17:18:17.915442Z",
     "shell.execute_reply": "2023-02-02T17:18:17.914353Z"
    },
    "papermill": {
     "duration": 0.139182,
     "end_time": "2023-02-02T17:18:17.917627",
     "exception": false,
     "start_time": "2023-02-02T17:18:17.778445",
     "status": "completed"
    },
    "tags": []
   },
   "outputs": [
    {
     "data": {
      "text/plain": [
       "datetime.date(2011, 12, 9)"
      ]
     },
     "execution_count": 21,
     "metadata": {},
     "output_type": "execute_result"
    }
   ],
   "source": [
    "# It is the last date in the dataset. I will need this to calculate the recency values. I'm going to use this to specify the today_date value.\n",
    "data[\"InvoiceDate\"].max()"
   ]
  },
  {
   "cell_type": "code",
   "execution_count": 22,
   "id": "0dc8810f",
   "metadata": {},
   "outputs": [],
   "source": [
    "# choose last_date in the dataset + 2 as current date. \n",
    "today_date = dt.date(2011, 12, 11)"
   ]
  },
  {
   "cell_type": "code",
   "execution_count": 23,
   "id": "a4f04ea3",
   "metadata": {},
   "outputs": [],
   "source": [
    "data = data[['Customer_ID', 'InvoiceDate', 'TotalPrice']]"
   ]
  },
  {
   "cell_type": "markdown",
   "id": "b2d3cd24",
   "metadata": {},
   "source": [
    "### use function <a id=\"4a1\"></a>"
   ]
  },
  {
   "cell_type": "code",
   "execution_count": 24,
   "id": "be2726fb",
   "metadata": {
    "execution": {
     "iopub.execute_input": "2023-02-02T17:18:18.426392Z",
     "iopub.status.busy": "2023-02-02T17:18:18.425732Z",
     "iopub.status.idle": "2023-02-02T17:18:21.153216Z",
     "shell.execute_reply": "2023-02-02T17:18:21.152220Z"
    },
    "papermill": {
     "duration": 2.858064,
     "end_time": "2023-02-02T17:18:21.155781",
     "exception": false,
     "start_time": "2023-02-02T17:18:18.297717",
     "status": "completed"
    },
    "tags": []
   },
   "outputs": [],
   "source": [
    "# Create the df_cltv dataframe.\n",
    "df_cltv = data.groupby(\"Customer_ID\").agg({\"InvoiceDate\" : [lambda InvoiceDate: (InvoiceDate.max() - InvoiceDate.min()).days, # recency\n",
    "                                                            lambda InvoiceDate: (today_date - InvoiceDate.min()).days, # T\n",
    "                                                            lambda InvoiceDate: InvoiceDate.nunique()], # frequence\n",
    "                                           \"TotalPrice\": lambda TotalPrice: TotalPrice.sum()}) # monatery"
   ]
  },
  {
   "cell_type": "code",
   "execution_count": 25,
   "id": "993c446f",
   "metadata": {
    "execution": {
     "iopub.execute_input": "2023-02-02T17:18:22.269547Z",
     "iopub.status.busy": "2023-02-02T17:18:22.269119Z",
     "iopub.status.idle": "2023-02-02T17:18:22.274179Z",
     "shell.execute_reply": "2023-02-02T17:18:22.272934Z"
    },
    "papermill": {
     "duration": 0.133881,
     "end_time": "2023-02-02T17:18:22.276621",
     "exception": false,
     "start_time": "2023-02-02T17:18:22.142740",
     "status": "completed"
    },
    "tags": []
   },
   "outputs": [],
   "source": [
    "# I specfy the column name of df_cltv\n",
    "df_cltv.columns = [\"recency\", \"T\", \"frequnecy\", \"monetary\"]"
   ]
  },
  {
   "cell_type": "code",
   "execution_count": 26,
   "id": "21c10fbb",
   "metadata": {},
   "outputs": [],
   "source": [
    "# filter out the first order\n",
    "df_cltv = df_cltv[df_cltv[\"frequnecy\"] > 1]"
   ]
  },
  {
   "cell_type": "code",
   "execution_count": 27,
   "id": "048e5e5e",
   "metadata": {
    "execution": {
     "iopub.execute_input": "2023-02-02T17:18:23.384098Z",
     "iopub.status.busy": "2023-02-02T17:18:23.383357Z",
     "iopub.status.idle": "2023-02-02T17:18:23.389091Z",
     "shell.execute_reply": "2023-02-02T17:18:23.388319Z"
    },
    "papermill": {
     "duration": 0.137588,
     "end_time": "2023-02-02T17:18:23.391359",
     "exception": false,
     "start_time": "2023-02-02T17:18:23.253771",
     "status": "completed"
    },
    "tags": []
   },
   "outputs": [],
   "source": [
    "# Average earnings per purchase\n",
    "df_cltv[\"monetary\"] = df_cltv[\"monetary\"] / df_cltv[\"frequnecy\"]"
   ]
  },
  {
   "cell_type": "code",
   "execution_count": 28,
   "id": "c85e665e",
   "metadata": {
    "execution": {
     "iopub.execute_input": "2023-02-02T17:18:23.914612Z",
     "iopub.status.busy": "2023-02-02T17:18:23.913915Z",
     "iopub.status.idle": "2023-02-02T17:18:23.919654Z",
     "shell.execute_reply": "2023-02-02T17:18:23.918882Z"
    },
    "papermill": {
     "duration": 0.135139,
     "end_time": "2023-02-02T17:18:23.921706",
     "exception": false,
     "start_time": "2023-02-02T17:18:23.786567",
     "status": "completed"
    },
    "tags": []
   },
   "outputs": [],
   "source": [
    "# # turn the recency and T values to the weekly format \n",
    "# df_cltv[\"recency\"] = df_cltv[\"recency\"] / 7\n",
    "# df_cltv[\"T\"] = df_cltv[\"T\"] / 7"
   ]
  },
  {
   "cell_type": "code",
   "execution_count": 29,
   "id": "add0914e",
   "metadata": {
    "execution": {
     "iopub.execute_input": "2023-02-02T17:18:24.238331Z",
     "iopub.status.busy": "2023-02-02T17:18:24.237913Z",
     "iopub.status.idle": "2023-02-02T17:18:24.249080Z",
     "shell.execute_reply": "2023-02-02T17:18:24.248057Z"
    },
    "papermill": {
     "duration": 0.145659,
     "end_time": "2023-02-02T17:18:24.251382",
     "exception": false,
     "start_time": "2023-02-02T17:18:24.105723",
     "status": "completed"
    },
    "tags": []
   },
   "outputs": [
    {
     "data": {
      "text/html": [
       "<div>\n",
       "<style scoped>\n",
       "    .dataframe tbody tr th:only-of-type {\n",
       "        vertical-align: middle;\n",
       "    }\n",
       "\n",
       "    .dataframe tbody tr th {\n",
       "        vertical-align: top;\n",
       "    }\n",
       "\n",
       "    .dataframe thead th {\n",
       "        text-align: right;\n",
       "    }\n",
       "</style>\n",
       "<table border=\"1\" class=\"dataframe\">\n",
       "  <thead>\n",
       "    <tr style=\"text-align: right;\">\n",
       "      <th></th>\n",
       "      <th>recency</th>\n",
       "      <th>T</th>\n",
       "      <th>frequnecy</th>\n",
       "      <th>monetary</th>\n",
       "    </tr>\n",
       "    <tr>\n",
       "      <th>Customer_ID</th>\n",
       "      <th></th>\n",
       "      <th></th>\n",
       "      <th></th>\n",
       "      <th></th>\n",
       "    </tr>\n",
       "  </thead>\n",
       "  <tbody>\n",
       "    <tr>\n",
       "      <th>12346.0</th>\n",
       "      <td>400</td>\n",
       "      <td>727</td>\n",
       "      <td>8</td>\n",
       "      <td>9694.557500</td>\n",
       "    </tr>\n",
       "    <tr>\n",
       "      <th>12347.0</th>\n",
       "      <td>402</td>\n",
       "      <td>406</td>\n",
       "      <td>8</td>\n",
       "      <td>704.165000</td>\n",
       "    </tr>\n",
       "    <tr>\n",
       "      <th>12348.0</th>\n",
       "      <td>363</td>\n",
       "      <td>440</td>\n",
       "      <td>5</td>\n",
       "      <td>403.880000</td>\n",
       "    </tr>\n",
       "    <tr>\n",
       "      <th>12349.0</th>\n",
       "      <td>571</td>\n",
       "      <td>591</td>\n",
       "      <td>4</td>\n",
       "      <td>1107.172500</td>\n",
       "    </tr>\n",
       "    <tr>\n",
       "      <th>12352.0</th>\n",
       "      <td>356</td>\n",
       "      <td>394</td>\n",
       "      <td>9</td>\n",
       "      <td>316.648889</td>\n",
       "    </tr>\n",
       "  </tbody>\n",
       "</table>\n",
       "</div>"
      ],
      "text/plain": [
       "             recency    T  frequnecy     monetary\n",
       "Customer_ID                                      \n",
       "12346.0          400  727          8  9694.557500\n",
       "12347.0          402  406          8   704.165000\n",
       "12348.0          363  440          5   403.880000\n",
       "12349.0          571  591          4  1107.172500\n",
       "12352.0          356  394          9   316.648889"
      ]
     },
     "execution_count": 29,
     "metadata": {},
     "output_type": "execute_result"
    }
   ],
   "source": [
    "df_cltv.head()"
   ]
  },
  {
   "cell_type": "markdown",
   "id": "5ae42e8b",
   "metadata": {},
   "source": [
    "### use sql <a id=\"4a2\"></a>  "
   ]
  },
  {
   "cell_type": "code",
   "execution_count": 30,
   "id": "29888acc",
   "metadata": {},
   "outputs": [
    {
     "data": {
      "text/html": [
       "<div>\n",
       "<style scoped>\n",
       "    .dataframe tbody tr th:only-of-type {\n",
       "        vertical-align: middle;\n",
       "    }\n",
       "\n",
       "    .dataframe tbody tr th {\n",
       "        vertical-align: top;\n",
       "    }\n",
       "\n",
       "    .dataframe thead th {\n",
       "        text-align: right;\n",
       "    }\n",
       "</style>\n",
       "<table border=\"1\" class=\"dataframe\">\n",
       "  <thead>\n",
       "    <tr style=\"text-align: right;\">\n",
       "      <th></th>\n",
       "      <th>Customer_ID</th>\n",
       "      <th>frequence</th>\n",
       "      <th>recency</th>\n",
       "      <th>T</th>\n",
       "      <th>monetary_value</th>\n",
       "    </tr>\n",
       "  </thead>\n",
       "  <tbody>\n",
       "    <tr>\n",
       "      <th>0</th>\n",
       "      <td>12346.0</td>\n",
       "      <td>8</td>\n",
       "      <td>400</td>\n",
       "      <td>727</td>\n",
       "      <td>9694.5575</td>\n",
       "    </tr>\n",
       "    <tr>\n",
       "      <th>1</th>\n",
       "      <td>12347.0</td>\n",
       "      <td>8</td>\n",
       "      <td>402</td>\n",
       "      <td>406</td>\n",
       "      <td>704.1650</td>\n",
       "    </tr>\n",
       "    <tr>\n",
       "      <th>2</th>\n",
       "      <td>12348.0</td>\n",
       "      <td>5</td>\n",
       "      <td>363</td>\n",
       "      <td>440</td>\n",
       "      <td>403.8800</td>\n",
       "    </tr>\n",
       "    <tr>\n",
       "      <th>3</th>\n",
       "      <td>12349.0</td>\n",
       "      <td>4</td>\n",
       "      <td>571</td>\n",
       "      <td>591</td>\n",
       "      <td>1107.1725</td>\n",
       "    </tr>\n",
       "    <tr>\n",
       "      <th>4</th>\n",
       "      <td>12350.0</td>\n",
       "      <td>1</td>\n",
       "      <td>0</td>\n",
       "      <td>312</td>\n",
       "      <td>334.4000</td>\n",
       "    </tr>\n",
       "  </tbody>\n",
       "</table>\n",
       "</div>"
      ],
      "text/plain": [
       "   Customer_ID  frequence  recency    T  monetary_value\n",
       "0      12346.0          8      400  727       9694.5575\n",
       "1      12347.0          8      402  406        704.1650\n",
       "2      12348.0          5      363  440        403.8800\n",
       "3      12349.0          4      571  591       1107.1725\n",
       "4      12350.0          1        0  312        334.4000"
      ]
     },
     "execution_count": 30,
     "metadata": {},
     "output_type": "execute_result"
    }
   ],
   "source": [
    "sql_query = \"\"\"\n",
    "with t AS \n",
    "(\n",
    "select \n",
    "Customer_ID, \n",
    "min(InvoiceDate) as min_date, \n",
    "max(InvoiceDate) as max_date,\n",
    "count(distinct InvoiceDate) as frequence,\n",
    "sum(TotalPrice) as monetary\n",
    "from data\n",
    "group by 1\n",
    ")\n",
    "select \n",
    "Customer_ID,\n",
    "frequence,\n",
    "date_diff('day', min_date, max_date) as recency,\n",
    "date_diff('day', min_date, DATE '2011-12-11') as T,\n",
    "monetary/frequence as monetary_value\n",
    "from t\n",
    "order by Customer_ID\n",
    "\"\"\"\n",
    "\n",
    "df_cltv_sql = duckdb.query(sql_query).to_df()\n",
    "df_cltv_sql.head()"
   ]
  },
  {
   "cell_type": "markdown",
   "id": "cb710900",
   "metadata": {},
   "source": [
    "### use summary_data_from_transaction_data <a id=\"4a3\"></a>  \n",
    "[reference link](https://lifetimes.readthedocs.io/en/latest/lifetimes.html#module-lifetimes.utils)"
   ]
  },
  {
   "cell_type": "code",
   "execution_count": 31,
   "id": "e4d5e78b",
   "metadata": {},
   "outputs": [
    {
     "name": "stdout",
     "output_type": "stream",
     "text": [
      "0.11.3\n"
     ]
    },
    {
     "data": {
      "text/html": [
       "<div>\n",
       "<style scoped>\n",
       "    .dataframe tbody tr th:only-of-type {\n",
       "        vertical-align: middle;\n",
       "    }\n",
       "\n",
       "    .dataframe tbody tr th {\n",
       "        vertical-align: top;\n",
       "    }\n",
       "\n",
       "    .dataframe thead th {\n",
       "        text-align: right;\n",
       "    }\n",
       "</style>\n",
       "<table border=\"1\" class=\"dataframe\">\n",
       "  <thead>\n",
       "    <tr style=\"text-align: right;\">\n",
       "      <th></th>\n",
       "      <th>frequency</th>\n",
       "      <th>recency</th>\n",
       "      <th>T</th>\n",
       "      <th>monetary_value</th>\n",
       "    </tr>\n",
       "    <tr>\n",
       "      <th>Customer_ID</th>\n",
       "      <th></th>\n",
       "      <th></th>\n",
       "      <th></th>\n",
       "      <th></th>\n",
       "    </tr>\n",
       "  </thead>\n",
       "  <tbody>\n",
       "    <tr>\n",
       "      <th>12346.0</th>\n",
       "      <td>8.0</td>\n",
       "      <td>400.0</td>\n",
       "      <td>727.0</td>\n",
       "      <td>9694.5575</td>\n",
       "    </tr>\n",
       "    <tr>\n",
       "      <th>12347.0</th>\n",
       "      <td>8.0</td>\n",
       "      <td>402.0</td>\n",
       "      <td>406.0</td>\n",
       "      <td>704.1650</td>\n",
       "    </tr>\n",
       "    <tr>\n",
       "      <th>12348.0</th>\n",
       "      <td>5.0</td>\n",
       "      <td>363.0</td>\n",
       "      <td>440.0</td>\n",
       "      <td>403.8800</td>\n",
       "    </tr>\n",
       "    <tr>\n",
       "      <th>12349.0</th>\n",
       "      <td>4.0</td>\n",
       "      <td>571.0</td>\n",
       "      <td>591.0</td>\n",
       "      <td>1107.1725</td>\n",
       "    </tr>\n",
       "    <tr>\n",
       "      <th>12350.0</th>\n",
       "      <td>1.0</td>\n",
       "      <td>0.0</td>\n",
       "      <td>312.0</td>\n",
       "      <td>334.4000</td>\n",
       "    </tr>\n",
       "  </tbody>\n",
       "</table>\n",
       "</div>"
      ],
      "text/plain": [
       "             frequency  recency      T  monetary_value\n",
       "Customer_ID                                           \n",
       "12346.0            8.0    400.0  727.0       9694.5575\n",
       "12347.0            8.0    402.0  406.0        704.1650\n",
       "12348.0            5.0    363.0  440.0        403.8800\n",
       "12349.0            4.0    571.0  591.0       1107.1725\n",
       "12350.0            1.0      0.0  312.0        334.4000"
      ]
     },
     "execution_count": 31,
     "metadata": {},
     "output_type": "execute_result"
    }
   ],
   "source": [
    "import lifetimes\n",
    "print(lifetimes.__version__)\n",
    "_data = data[['Customer_ID', 'InvoiceDate', 'TotalPrice']]\n",
    "rfm = lifetimes.utils.summary_data_from_transaction_data (_data, \n",
    "     customer_id_col = 'Customer_ID', \n",
    "     datetime_col = 'InvoiceDate', \n",
    "     monetary_value_col = 'TotalPrice',\n",
    "     observation_period_end = today_date, \n",
    "     freq='D',\n",
    "     include_first_transaction = True  # normally, not \n",
    "    ) \n",
    "rfm.head()"
   ]
  },
  {
   "cell_type": "markdown",
   "id": "7a1e2b59",
   "metadata": {},
   "source": [
    "**As shown above, all three methods have the same results. Just for demonstration purpose**\n",
    "\n",
    "In the summary_data_from_transaction_data method, the first transaction by default is not included while calculating the frequency and monetary value. To include it, just set the parameter include_first_transaction to True. To use the data with some fitters from the lifetimes package, **this parameter include_first_transaction must be set to False**. So we re-generate input_df\n"
   ]
  },
  {
   "cell_type": "code",
   "execution_count": 32,
   "id": "9657dccb",
   "metadata": {},
   "outputs": [
    {
     "data": {
      "text/html": [
       "<div>\n",
       "<style scoped>\n",
       "    .dataframe tbody tr th:only-of-type {\n",
       "        vertical-align: middle;\n",
       "    }\n",
       "\n",
       "    .dataframe tbody tr th {\n",
       "        vertical-align: top;\n",
       "    }\n",
       "\n",
       "    .dataframe thead th {\n",
       "        text-align: right;\n",
       "    }\n",
       "</style>\n",
       "<table border=\"1\" class=\"dataframe\">\n",
       "  <thead>\n",
       "    <tr style=\"text-align: right;\">\n",
       "      <th></th>\n",
       "      <th>frequency</th>\n",
       "      <th>recency</th>\n",
       "      <th>T</th>\n",
       "      <th>monetary_value</th>\n",
       "    </tr>\n",
       "    <tr>\n",
       "      <th>Customer_ID</th>\n",
       "      <th></th>\n",
       "      <th></th>\n",
       "      <th></th>\n",
       "      <th></th>\n",
       "    </tr>\n",
       "  </thead>\n",
       "  <tbody>\n",
       "    <tr>\n",
       "      <th>12346.0</th>\n",
       "      <td>7.0</td>\n",
       "      <td>400.0</td>\n",
       "      <td>727.0</td>\n",
       "      <td>11066.637143</td>\n",
       "    </tr>\n",
       "    <tr>\n",
       "      <th>12347.0</th>\n",
       "      <td>7.0</td>\n",
       "      <td>402.0</td>\n",
       "      <td>406.0</td>\n",
       "      <td>717.398571</td>\n",
       "    </tr>\n",
       "    <tr>\n",
       "      <th>12348.0</th>\n",
       "      <td>4.0</td>\n",
       "      <td>363.0</td>\n",
       "      <td>440.0</td>\n",
       "      <td>449.310000</td>\n",
       "    </tr>\n",
       "    <tr>\n",
       "      <th>12349.0</th>\n",
       "      <td>3.0</td>\n",
       "      <td>571.0</td>\n",
       "      <td>591.0</td>\n",
       "      <td>1120.056667</td>\n",
       "    </tr>\n",
       "    <tr>\n",
       "      <th>12350.0</th>\n",
       "      <td>0.0</td>\n",
       "      <td>0.0</td>\n",
       "      <td>312.0</td>\n",
       "      <td>0.000000</td>\n",
       "    </tr>\n",
       "  </tbody>\n",
       "</table>\n",
       "</div>"
      ],
      "text/plain": [
       "             frequency  recency      T  monetary_value\n",
       "Customer_ID                                           \n",
       "12346.0            7.0    400.0  727.0    11066.637143\n",
       "12347.0            7.0    402.0  406.0      717.398571\n",
       "12348.0            4.0    363.0  440.0      449.310000\n",
       "12349.0            3.0    571.0  591.0     1120.056667\n",
       "12350.0            0.0      0.0  312.0        0.000000"
      ]
     },
     "execution_count": 32,
     "metadata": {},
     "output_type": "execute_result"
    }
   ],
   "source": [
    "input_df = lifetimes.utils.summary_data_from_transaction_data (_data, \n",
    "     customer_id_col = 'Customer_ID', \n",
    "     datetime_col = 'InvoiceDate', \n",
    "     monetary_value_col = 'TotalPrice',\n",
    "     observation_period_end = today_date, \n",
    "     freq='D',\n",
    "     include_first_transaction = False  \n",
    "    ) \n",
    "input_df.head()"
   ]
  },
  {
   "cell_type": "markdown",
   "id": "4677cd83",
   "metadata": {
    "papermill": {
     "duration": 0.128767,
     "end_time": "2023-02-02T17:18:25.056169",
     "exception": false,
     "start_time": "2023-02-02T17:18:24.927402",
     "status": "completed"
    },
    "tags": []
   },
   "source": [
    "## BG/NBD <a id= \"4b\"></a>"
   ]
  },
  {
   "cell_type": "code",
   "execution_count": 33,
   "id": "2ea48315",
   "metadata": {},
   "outputs": [],
   "source": [
    "from lifetimes import BetaGeoFitter\n",
    "from lifetimes import GammaGammaFitter\n",
    "from lifetimes.plotting import plot_period_transactions"
   ]
  },
  {
   "cell_type": "code",
   "execution_count": 34,
   "id": "729d8f3a",
   "metadata": {
    "execution": {
     "iopub.execute_input": "2023-02-02T17:18:25.316459Z",
     "iopub.status.busy": "2023-02-02T17:18:25.315613Z",
     "iopub.status.idle": "2023-02-02T17:18:25.481140Z",
     "shell.execute_reply": "2023-02-02T17:18:25.479860Z"
    },
    "papermill": {
     "duration": 0.29986,
     "end_time": "2023-02-02T17:18:25.485197",
     "exception": false,
     "start_time": "2023-02-02T17:18:25.185337",
     "status": "completed"
    },
    "tags": []
   },
   "outputs": [
    {
     "data": {
      "text/plain": [
       "<lifetimes.BetaGeoFitter: fitted with 5881 subjects, a: 0.08, alpha: 63.38, b: 1.24, r: 0.66>"
      ]
     },
     "execution_count": 34,
     "metadata": {},
     "output_type": "execute_result"
    }
   ],
   "source": [
    "# Model\n",
    "bgf = BetaGeoFitter(penalizer_coef = 0.001)\n",
    "\n",
    "# fit with frequency, recency, and T values.\n",
    "bgf.fit(input_df[\"frequency\"],\n",
    "       input_df[\"recency\"],\n",
    "       input_df[\"T\"])"
   ]
  },
  {
   "cell_type": "markdown",
   "id": "a9215be7",
   "metadata": {
    "papermill": {
     "duration": 0.127957,
     "end_time": "2023-02-02T17:18:25.867480",
     "exception": false,
     "start_time": "2023-02-02T17:18:25.739523",
     "status": "completed"
    },
    "tags": []
   },
   "source": [
    "At the code block below, I calculate how often shop customers in one month with the BetaGeoFitter model."
   ]
  },
  {
   "cell_type": "markdown",
   "id": "9e8e537e",
   "metadata": {},
   "source": [
    "### next 30 days frequence prediction <a id= \"4b1\"></a>"
   ]
  },
  {
   "cell_type": "code",
   "execution_count": 35,
   "id": "5896c2fa",
   "metadata": {},
   "outputs": [],
   "source": [
    "t=30"
   ]
  },
  {
   "cell_type": "code",
   "execution_count": 36,
   "id": "d4672fb6",
   "metadata": {
    "execution": {
     "iopub.execute_input": "2023-02-02T17:18:26.122539Z",
     "iopub.status.busy": "2023-02-02T17:18:26.122152Z",
     "iopub.status.idle": "2023-02-02T17:18:26.141501Z",
     "shell.execute_reply": "2023-02-02T17:18:26.140391Z"
    },
    "papermill": {
     "duration": 0.14945,
     "end_time": "2023-02-02T17:18:26.143925",
     "exception": false,
     "start_time": "2023-02-02T17:18:25.994475",
     "status": "completed"
    },
    "tags": []
   },
   "outputs": [
    {
     "data": {
      "text/plain": [
       "Customer_ID\n",
       "12346.0    0.179173\n",
       "12347.0    0.483301\n",
       "12348.0    0.267063\n",
       "12349.0    0.163433\n",
       "12350.0    0.052890\n",
       "             ...   \n",
       "18283.0    0.769227\n",
       "18284.0    0.040033\n",
       "18285.0    0.027418\n",
       "18286.0    0.049163\n",
       "18287.0    0.260918\n",
       "Length: 5881, dtype: float64"
      ]
     },
     "execution_count": 36,
     "metadata": {},
     "output_type": "execute_result"
    }
   ],
   "source": [
    "# Calculating next 30 days frequency\n",
    "# \n",
    "bgf.predict(t, # one month\n",
    "           input_df[\"frequency\"],\n",
    "           input_df[\"recency\"],\n",
    "           input_df[\"T\"])"
   ]
  },
  {
   "cell_type": "code",
   "execution_count": 37,
   "id": "e429febb",
   "metadata": {},
   "outputs": [
    {
     "data": {
      "text/plain": [
       "Customer_ID\n",
       "12346.0    0.179173\n",
       "12347.0    0.483301\n",
       "12348.0    0.267063\n",
       "12349.0    0.163433\n",
       "12350.0    0.052890\n",
       "             ...   \n",
       "18283.0    0.769227\n",
       "18284.0    0.040033\n",
       "18285.0    0.027418\n",
       "18286.0    0.049163\n",
       "18287.0    0.260918\n",
       "Length: 5881, dtype: float64"
      ]
     },
     "execution_count": 37,
     "metadata": {},
     "output_type": "execute_result"
    }
   ],
   "source": [
    "# OR use conditional_expected_number_of_purchases_up_to_time, same result\n",
    "bgf.conditional_expected_number_of_purchases_up_to_time(t,input_df[\"frequency\"],\n",
    "           input_df[\"recency\"],\n",
    "           input_df[\"T\"])"
   ]
  },
  {
   "cell_type": "code",
   "execution_count": 38,
   "id": "4967bad7",
   "metadata": {},
   "outputs": [],
   "source": [
    "input_df[\"expected_purc_30_days\"] = bgf.predict(t, \n",
    "                                               input_df[\"frequency\"],\n",
    "                                               input_df[\"recency\"],\n",
    "                                               input_df[\"T\"])"
   ]
  },
  {
   "cell_type": "code",
   "execution_count": 39,
   "id": "20c3ae0e",
   "metadata": {},
   "outputs": [
    {
     "data": {
      "text/plain": [
       "<Axes: title={'center': 'Frequency of Repeat Transactions'}, xlabel='Number of Calibration Period Transactions', ylabel='Customers'>"
      ]
     },
     "execution_count": 39,
     "metadata": {},
     "output_type": "execute_result"
    },
    {
     "data": {
      "image/png": "[encoded data removed]",
      "text/plain": [
       "<Figure size 640x480 with 1 Axes>"
      ]
     },
     "metadata": {},
     "output_type": "display_data"
    }
   ],
   "source": [
    "plot_period_transactions(bgf)"
   ]
  },
  {
   "cell_type": "markdown",
   "id": "705e0935",
   "metadata": {},
   "source": [
    "### next 90 days frequence prediction <a id= \"4b2\"></a>"
   ]
  },
  {
   "cell_type": "code",
   "execution_count": 40,
   "id": "08e8594e",
   "metadata": {},
   "outputs": [],
   "source": [
    "# t=90"
   ]
  },
  {
   "cell_type": "code",
   "execution_count": 41,
   "id": "d1767a44",
   "metadata": {
    "execution": {
     "iopub.execute_input": "2023-02-02T17:18:26.680794Z",
     "iopub.status.busy": "2023-02-02T17:18:26.679992Z",
     "iopub.status.idle": "2023-02-02T17:18:26.695417Z",
     "shell.execute_reply": "2023-02-02T17:18:26.694332Z"
    },
    "papermill": {
     "duration": 0.146545,
     "end_time": "2023-02-02T17:18:26.698020",
     "exception": false,
     "start_time": "2023-02-02T17:18:26.551475",
     "status": "completed"
    },
    "tags": []
   },
   "outputs": [],
   "source": [
    "# # Calculating 90 days values\n",
    "# input_df[\"expected_purc_90_days\"] = bgf.predict(t, \n",
    "#                                                input_df[\"frequency\"],\n",
    "#                                                input_df[\"recency\"],\n",
    "#                                                input_df[\"T\"])"
   ]
  },
  {
   "cell_type": "code",
   "execution_count": 42,
   "id": "bf99ff4b",
   "metadata": {
    "execution": {
     "iopub.execute_input": "2023-02-02T17:18:26.952868Z",
     "iopub.status.busy": "2023-02-02T17:18:26.952487Z",
     "iopub.status.idle": "2023-02-02T17:18:26.963846Z",
     "shell.execute_reply": "2023-02-02T17:18:26.962675Z"
    },
    "papermill": {
     "duration": 0.14168,
     "end_time": "2023-02-02T17:18:26.966191",
     "exception": false,
     "start_time": "2023-02-02T17:18:26.824511",
     "status": "completed"
    },
    "tags": []
   },
   "outputs": [],
   "source": [
    "# input_df.head()"
   ]
  },
  {
   "cell_type": "markdown",
   "id": "ccb06293",
   "metadata": {},
   "source": [
    "### next 180 days frequence prediction <a id= \"4b3\"></a>"
   ]
  },
  {
   "cell_type": "code",
   "execution_count": 43,
   "id": "154ebdb4",
   "metadata": {},
   "outputs": [],
   "source": [
    "# t=180"
   ]
  },
  {
   "cell_type": "code",
   "execution_count": 44,
   "id": "43b2c5c0",
   "metadata": {
    "execution": {
     "iopub.execute_input": "2023-02-02T17:18:27.567475Z",
     "iopub.status.busy": "2023-02-02T17:18:27.566791Z",
     "iopub.status.idle": "2023-02-02T17:18:27.582415Z",
     "shell.execute_reply": "2023-02-02T17:18:27.581185Z"
    },
    "papermill": {
     "duration": 0.148726,
     "end_time": "2023-02-02T17:18:27.585102",
     "exception": false,
     "start_time": "2023-02-02T17:18:27.436376",
     "status": "completed"
    },
    "tags": []
   },
   "outputs": [],
   "source": [
    "# # Adding the six monthly values to the df_cltv\n",
    "# input_df[\"expected_purc_180_days\"] = bgf.predict(t, \n",
    "#                                                input_df[\"frequency\"],\n",
    "#                                                input_df[\"recency\"],\n",
    "#                                                input_df[\"T\"])"
   ]
  },
  {
   "cell_type": "code",
   "execution_count": 45,
   "id": "8d84db97",
   "metadata": {
    "execution": {
     "iopub.execute_input": "2023-02-02T17:18:27.841142Z",
     "iopub.status.busy": "2023-02-02T17:18:27.840327Z",
     "iopub.status.idle": "2023-02-02T17:18:27.851831Z",
     "shell.execute_reply": "2023-02-02T17:18:27.850957Z"
    },
    "papermill": {
     "duration": 0.141647,
     "end_time": "2023-02-02T17:18:27.853827",
     "exception": false,
     "start_time": "2023-02-02T17:18:27.712180",
     "status": "completed"
    },
    "tags": []
   },
   "outputs": [],
   "source": [
    "# input_df.head()"
   ]
  },
  {
   "cell_type": "markdown",
   "id": "6a0fc3b2",
   "metadata": {
    "papermill": {
     "duration": 0.124314,
     "end_time": "2023-02-02T17:18:28.104573",
     "exception": false,
     "start_time": "2023-02-02T17:18:27.980259",
     "status": "completed"
    },
    "tags": []
   },
   "source": [
    "## GammaGammaFitter <a id=\"4b\"></a>\n",
    "In this section, I will apply the GammaGammaFitter model to the df_cltv I created."
   ]
  },
  {
   "cell_type": "code",
   "execution_count": 46,
   "id": "bb0991db",
   "metadata": {
    "execution": {
     "iopub.execute_input": "2023-02-02T17:18:28.359490Z",
     "iopub.status.busy": "2023-02-02T17:18:28.358787Z",
     "iopub.status.idle": "2023-02-02T17:18:28.431888Z",
     "shell.execute_reply": "2023-02-02T17:18:28.430221Z"
    },
    "papermill": {
     "duration": 0.205871,
     "end_time": "2023-02-02T17:18:28.436149",
     "exception": false,
     "start_time": "2023-02-02T17:18:28.230278",
     "status": "completed"
    },
    "tags": []
   },
   "outputs": [
    {
     "data": {
      "text/plain": [
       "<lifetimes.GammaGammaFitter: fitted with 4189 subjects, p: 3.78, q: 0.34, v: 3.68>"
      ]
     },
     "execution_count": 46,
     "metadata": {},
     "output_type": "execute_result"
    }
   ],
   "source": [
    "# Model\n",
    "ggf = GammaGammaFitter(penalizer_coef = 0.01)\n",
    "\n",
    "# remove monetary_value <= 0 to enable ggf.fit\n",
    "df_cltv = input_df[input_df['monetary_value'] > 0]\n",
    "\n",
    "# fitting with frequency adn monetary values\n",
    "ggf.fit(df_cltv[\"frequency\"], df_cltv[\"monetary_value\"])"
   ]
  },
  {
   "cell_type": "markdown",
   "id": "f97a2413",
   "metadata": {
    "papermill": {
     "duration": 0.18809,
     "end_time": "2023-02-02T17:18:28.819678",
     "exception": false,
     "start_time": "2023-02-02T17:18:28.631588",
     "status": "completed"
    },
    "tags": []
   },
   "source": [
    "At the code block below, I calculate how much profit a customer will bring in with the gammagammafitter model."
   ]
  },
  {
   "cell_type": "code",
   "execution_count": 47,
   "id": "0922d99a",
   "metadata": {
    "execution": {
     "iopub.execute_input": "2023-02-02T17:18:29.080911Z",
     "iopub.status.busy": "2023-02-02T17:18:29.080493Z",
     "iopub.status.idle": "2023-02-02T17:18:29.091996Z",
     "shell.execute_reply": "2023-02-02T17:18:29.091212Z"
    },
    "papermill": {
     "duration": 0.144548,
     "end_time": "2023-02-02T17:18:29.094058",
     "exception": false,
     "start_time": "2023-02-02T17:18:28.949510",
     "status": "completed"
    },
    "tags": []
   },
   "outputs": [
    {
     "data": {
      "text/plain": [
       "Customer_ID\n",
       "16446.0    204353.100667\n",
       "15749.0     26126.874911\n",
       "12346.0     11351.897198\n",
       "12536.0     10098.951178\n",
       "18102.0      9214.499262\n",
       "13902.0      8803.755992\n",
       "12357.0      7534.185961\n",
       "17450.0      6965.411397\n",
       "12415.0      6512.672322\n",
       "14646.0      5821.302801\n",
       "dtype: float64"
      ]
     },
     "execution_count": 47,
     "metadata": {},
     "output_type": "execute_result"
    }
   ],
   "source": [
    "# get top 10 \n",
    "ggf.conditional_expected_average_profit(df_cltv[\"frequency\"], df_cltv[\"monetary_value\"]).sort_values(ascending = False).head(10)"
   ]
  },
  {
   "cell_type": "code",
   "execution_count": 48,
   "id": "e0d2cdec",
   "metadata": {
    "execution": {
     "iopub.execute_input": "2023-02-02T17:18:29.355378Z",
     "iopub.status.busy": "2023-02-02T17:18:29.354973Z",
     "iopub.status.idle": "2023-02-02T17:18:29.361435Z",
     "shell.execute_reply": "2023-02-02T17:18:29.360452Z"
    },
    "papermill": {
     "duration": 0.141406,
     "end_time": "2023-02-02T17:18:29.363621",
     "exception": false,
     "start_time": "2023-02-02T17:18:29.222215",
     "status": "completed"
    },
    "tags": []
   },
   "outputs": [],
   "source": [
    "# Adding the prediction values to df_rfm.\n",
    "df_cltv[\"expected_average_profit\"] = ggf.conditional_expected_average_profit(df_cltv[\"frequency\"], df_cltv[\"monetary_value\"])"
   ]
  },
  {
   "cell_type": "code",
   "execution_count": 49,
   "id": "439281a0",
   "metadata": {
    "execution": {
     "iopub.execute_input": "2023-02-02T17:18:29.620560Z",
     "iopub.status.busy": "2023-02-02T17:18:29.620170Z",
     "iopub.status.idle": "2023-02-02T17:18:29.632325Z",
     "shell.execute_reply": "2023-02-02T17:18:29.631176Z"
    },
    "papermill": {
     "duration": 0.143004,
     "end_time": "2023-02-02T17:18:29.634546",
     "exception": false,
     "start_time": "2023-02-02T17:18:29.491542",
     "status": "completed"
    },
    "tags": []
   },
   "outputs": [
    {
     "data": {
      "text/html": [
       "<div>\n",
       "<style scoped>\n",
       "    .dataframe tbody tr th:only-of-type {\n",
       "        vertical-align: middle;\n",
       "    }\n",
       "\n",
       "    .dataframe tbody tr th {\n",
       "        vertical-align: top;\n",
       "    }\n",
       "\n",
       "    .dataframe thead th {\n",
       "        text-align: right;\n",
       "    }\n",
       "</style>\n",
       "<table border=\"1\" class=\"dataframe\">\n",
       "  <thead>\n",
       "    <tr style=\"text-align: right;\">\n",
       "      <th></th>\n",
       "      <th>frequency</th>\n",
       "      <th>recency</th>\n",
       "      <th>T</th>\n",
       "      <th>monetary_value</th>\n",
       "      <th>expected_purc_30_days</th>\n",
       "      <th>expected_average_profit</th>\n",
       "    </tr>\n",
       "    <tr>\n",
       "      <th>Customer_ID</th>\n",
       "      <th></th>\n",
       "      <th></th>\n",
       "      <th></th>\n",
       "      <th></th>\n",
       "      <th></th>\n",
       "      <th></th>\n",
       "    </tr>\n",
       "  </thead>\n",
       "  <tbody>\n",
       "    <tr>\n",
       "      <th>12346.0</th>\n",
       "      <td>7.0</td>\n",
       "      <td>400.0</td>\n",
       "      <td>727.0</td>\n",
       "      <td>11066.637143</td>\n",
       "      <td>0.179173</td>\n",
       "      <td>11351.897198</td>\n",
       "    </tr>\n",
       "    <tr>\n",
       "      <th>12347.0</th>\n",
       "      <td>7.0</td>\n",
       "      <td>402.0</td>\n",
       "      <td>406.0</td>\n",
       "      <td>717.398571</td>\n",
       "      <td>0.483301</td>\n",
       "      <td>736.395207</td>\n",
       "    </tr>\n",
       "    <tr>\n",
       "      <th>12348.0</th>\n",
       "      <td>4.0</td>\n",
       "      <td>363.0</td>\n",
       "      <td>440.0</td>\n",
       "      <td>449.310000</td>\n",
       "      <td>0.267063</td>\n",
       "      <td>470.900379</td>\n",
       "    </tr>\n",
       "    <tr>\n",
       "      <th>12349.0</th>\n",
       "      <td>3.0</td>\n",
       "      <td>571.0</td>\n",
       "      <td>591.0</td>\n",
       "      <td>1120.056667</td>\n",
       "      <td>0.163433</td>\n",
       "      <td>1190.987555</td>\n",
       "    </tr>\n",
       "    <tr>\n",
       "      <th>12352.0</th>\n",
       "      <td>8.0</td>\n",
       "      <td>356.0</td>\n",
       "      <td>394.0</td>\n",
       "      <td>338.261250</td>\n",
       "      <td>0.556128</td>\n",
       "      <td>346.322300</td>\n",
       "    </tr>\n",
       "  </tbody>\n",
       "</table>\n",
       "</div>"
      ],
      "text/plain": [
       "             frequency  recency      T  monetary_value  expected_purc_30_days  \\\n",
       "Customer_ID                                                                     \n",
       "12346.0            7.0    400.0  727.0    11066.637143               0.179173   \n",
       "12347.0            7.0    402.0  406.0      717.398571               0.483301   \n",
       "12348.0            4.0    363.0  440.0      449.310000               0.267063   \n",
       "12349.0            3.0    571.0  591.0     1120.056667               0.163433   \n",
       "12352.0            8.0    356.0  394.0      338.261250               0.556128   \n",
       "\n",
       "             expected_average_profit  \n",
       "Customer_ID                           \n",
       "12346.0                 11351.897198  \n",
       "12347.0                   736.395207  \n",
       "12348.0                   470.900379  \n",
       "12349.0                  1190.987555  \n",
       "12352.0                   346.322300  "
      ]
     },
     "execution_count": 49,
     "metadata": {},
     "output_type": "execute_result"
    }
   ],
   "source": [
    "df_cltv.head()"
   ]
  },
  {
   "cell_type": "markdown",
   "id": "9346ee9e",
   "metadata": {
    "papermill": {
     "duration": 0.126061,
     "end_time": "2023-02-02T17:18:29.888650",
     "exception": false,
     "start_time": "2023-02-02T17:18:29.762589",
     "status": "completed"
    },
    "tags": []
   },
   "source": [
    "At the code block below, I calculate the cltv values of the customer."
   ]
  },
  {
   "cell_type": "code",
   "execution_count": 50,
   "id": "8f6f1c05",
   "metadata": {
    "execution": {
     "iopub.execute_input": "2023-02-02T17:18:30.200544Z",
     "iopub.status.busy": "2023-02-02T17:18:30.200152Z",
     "iopub.status.idle": "2023-02-02T17:18:30.312592Z",
     "shell.execute_reply": "2023-02-02T17:18:30.311456Z"
    },
    "papermill": {
     "duration": 0.29946,
     "end_time": "2023-02-02T17:18:30.315342",
     "exception": false,
     "start_time": "2023-02-02T17:18:30.015882",
     "status": "completed"
    },
    "tags": []
   },
   "outputs": [],
   "source": [
    "cltv = ggf.customer_lifetime_value(bgf,\n",
    "                                  df_cltv[\"frequency\"],\n",
    "                                  df_cltv[\"recency\"],\n",
    "                                  df_cltv[\"T\"],\n",
    "                                  df_cltv[\"monetary_value\"],\n",
    "                                  time = 30, # six months\n",
    "                                  freq = \"D\",\n",
    "                                  discount_rate = 0.01)"
   ]
  },
  {
   "cell_type": "code",
   "execution_count": 51,
   "id": "21811842",
   "metadata": {
    "execution": {
     "iopub.execute_input": "2023-02-02T17:18:30.574018Z",
     "iopub.status.busy": "2023-02-02T17:18:30.573407Z",
     "iopub.status.idle": "2023-02-02T17:18:30.580056Z",
     "shell.execute_reply": "2023-02-02T17:18:30.579257Z"
    },
    "papermill": {
     "duration": 0.138295,
     "end_time": "2023-02-02T17:18:30.582322",
     "exception": false,
     "start_time": "2023-02-02T17:18:30.444027",
     "status": "completed"
    },
    "tags": []
   },
   "outputs": [
    {
     "data": {
      "text/plain": [
       "Customer_ID\n",
       "12346.0    50932.792179\n",
       "12347.0     8789.868861\n",
       "12348.0     3110.173593\n",
       "12349.0     4846.931855\n",
       "12352.0     4753.691059\n",
       "12353.0      251.633708\n",
       "12355.0      979.847998\n",
       "12356.0     9521.354227\n",
       "12357.0    19021.470173\n",
       "12358.0     2775.852510\n",
       "Name: clv, dtype: float64"
      ]
     },
     "execution_count": 51,
     "metadata": {},
     "output_type": "execute_result"
    }
   ],
   "source": [
    "cltv.head(10)"
   ]
  },
  {
   "cell_type": "code",
   "execution_count": 52,
   "id": "bdd5db64",
   "metadata": {
    "execution": {
     "iopub.execute_input": "2023-02-02T17:18:30.841268Z",
     "iopub.status.busy": "2023-02-02T17:18:30.840830Z",
     "iopub.status.idle": "2023-02-02T17:18:30.846057Z",
     "shell.execute_reply": "2023-02-02T17:18:30.845257Z"
    },
    "papermill": {
     "duration": 0.137421,
     "end_time": "2023-02-02T17:18:30.848119",
     "exception": false,
     "start_time": "2023-02-02T17:18:30.710698",
     "status": "completed"
    },
    "tags": []
   },
   "outputs": [],
   "source": [
    "# Adding the cltv values to the df_cltv.\n",
    "df_cltv[\"cltv\"] = cltv"
   ]
  },
  {
   "cell_type": "code",
   "execution_count": 53,
   "id": "6ba6ac66",
   "metadata": {
    "execution": {
     "iopub.execute_input": "2023-02-02T17:18:31.106334Z",
     "iopub.status.busy": "2023-02-02T17:18:31.105705Z",
     "iopub.status.idle": "2023-02-02T17:18:31.118623Z",
     "shell.execute_reply": "2023-02-02T17:18:31.117411Z"
    },
    "papermill": {
     "duration": 0.144803,
     "end_time": "2023-02-02T17:18:31.121011",
     "exception": false,
     "start_time": "2023-02-02T17:18:30.976208",
     "status": "completed"
    },
    "tags": []
   },
   "outputs": [
    {
     "data": {
      "text/html": [
       "<div>\n",
       "<style scoped>\n",
       "    .dataframe tbody tr th:only-of-type {\n",
       "        vertical-align: middle;\n",
       "    }\n",
       "\n",
       "    .dataframe tbody tr th {\n",
       "        vertical-align: top;\n",
       "    }\n",
       "\n",
       "    .dataframe thead th {\n",
       "        text-align: right;\n",
       "    }\n",
       "</style>\n",
       "<table border=\"1\" class=\"dataframe\">\n",
       "  <thead>\n",
       "    <tr style=\"text-align: right;\">\n",
       "      <th></th>\n",
       "      <th>frequency</th>\n",
       "      <th>recency</th>\n",
       "      <th>T</th>\n",
       "      <th>monetary_value</th>\n",
       "      <th>expected_purc_30_days</th>\n",
       "      <th>expected_average_profit</th>\n",
       "      <th>cltv</th>\n",
       "    </tr>\n",
       "    <tr>\n",
       "      <th>Customer_ID</th>\n",
       "      <th></th>\n",
       "      <th></th>\n",
       "      <th></th>\n",
       "      <th></th>\n",
       "      <th></th>\n",
       "      <th></th>\n",
       "      <th></th>\n",
       "    </tr>\n",
       "  </thead>\n",
       "  <tbody>\n",
       "    <tr>\n",
       "      <th>12346.0</th>\n",
       "      <td>7.0</td>\n",
       "      <td>400.0</td>\n",
       "      <td>727.0</td>\n",
       "      <td>11066.637143</td>\n",
       "      <td>0.179173</td>\n",
       "      <td>11351.897198</td>\n",
       "      <td>50932.792179</td>\n",
       "    </tr>\n",
       "    <tr>\n",
       "      <th>12347.0</th>\n",
       "      <td>7.0</td>\n",
       "      <td>402.0</td>\n",
       "      <td>406.0</td>\n",
       "      <td>717.398571</td>\n",
       "      <td>0.483301</td>\n",
       "      <td>736.395207</td>\n",
       "      <td>8789.868861</td>\n",
       "    </tr>\n",
       "    <tr>\n",
       "      <th>12348.0</th>\n",
       "      <td>4.0</td>\n",
       "      <td>363.0</td>\n",
       "      <td>440.0</td>\n",
       "      <td>449.310000</td>\n",
       "      <td>0.267063</td>\n",
       "      <td>470.900379</td>\n",
       "      <td>3110.173593</td>\n",
       "    </tr>\n",
       "    <tr>\n",
       "      <th>12349.0</th>\n",
       "      <td>3.0</td>\n",
       "      <td>571.0</td>\n",
       "      <td>591.0</td>\n",
       "      <td>1120.056667</td>\n",
       "      <td>0.163433</td>\n",
       "      <td>1190.987555</td>\n",
       "      <td>4846.931855</td>\n",
       "    </tr>\n",
       "    <tr>\n",
       "      <th>12352.0</th>\n",
       "      <td>8.0</td>\n",
       "      <td>356.0</td>\n",
       "      <td>394.0</td>\n",
       "      <td>338.261250</td>\n",
       "      <td>0.556128</td>\n",
       "      <td>346.322300</td>\n",
       "      <td>4753.691059</td>\n",
       "    </tr>\n",
       "  </tbody>\n",
       "</table>\n",
       "</div>"
      ],
      "text/plain": [
       "             frequency  recency      T  monetary_value  expected_purc_30_days  \\\n",
       "Customer_ID                                                                     \n",
       "12346.0            7.0    400.0  727.0    11066.637143               0.179173   \n",
       "12347.0            7.0    402.0  406.0      717.398571               0.483301   \n",
       "12348.0            4.0    363.0  440.0      449.310000               0.267063   \n",
       "12349.0            3.0    571.0  591.0     1120.056667               0.163433   \n",
       "12352.0            8.0    356.0  394.0      338.261250               0.556128   \n",
       "\n",
       "             expected_average_profit          cltv  \n",
       "Customer_ID                                         \n",
       "12346.0                 11351.897198  50932.792179  \n",
       "12347.0                   736.395207   8789.868861  \n",
       "12348.0                   470.900379   3110.173593  \n",
       "12349.0                  1190.987555   4846.931855  \n",
       "12352.0                   346.322300   4753.691059  "
      ]
     },
     "execution_count": 53,
     "metadata": {},
     "output_type": "execute_result"
    }
   ],
   "source": [
    "df_cltv.head()"
   ]
  },
  {
   "cell_type": "markdown",
   "id": "4ca3323f",
   "metadata": {
    "papermill": {
     "duration": 0.209871,
     "end_time": "2023-02-02T17:18:31.764212",
     "exception": false,
     "start_time": "2023-02-02T17:18:31.554341",
     "status": "completed"
    },
    "tags": []
   },
   "source": [
    "## Segmentation <a id = \"4e\"></a>\n",
    "In this chapter, I split the cltv values into segments."
   ]
  },
  {
   "cell_type": "code",
   "execution_count": 54,
   "id": "066b5251",
   "metadata": {
    "execution": {
     "iopub.execute_input": "2023-02-02T17:18:32.072251Z",
     "iopub.status.busy": "2023-02-02T17:18:32.071813Z",
     "iopub.status.idle": "2023-02-02T17:18:32.080450Z",
     "shell.execute_reply": "2023-02-02T17:18:32.079514Z"
    },
    "papermill": {
     "duration": 0.15107,
     "end_time": "2023-02-02T17:18:32.083326",
     "exception": false,
     "start_time": "2023-02-02T17:18:31.932256",
     "status": "completed"
    },
    "tags": []
   },
   "outputs": [],
   "source": [
    "df_cltv[\"segment\"] = pd.qcut(df_cltv[\"cltv\"], 4, labels = [\"D\", \"C\", \"B\", \"A\"])"
   ]
  },
  {
   "cell_type": "code",
   "execution_count": 55,
   "id": "52a9a4d1",
   "metadata": {
    "execution": {
     "iopub.execute_input": "2023-02-02T17:18:32.354088Z",
     "iopub.status.busy": "2023-02-02T17:18:32.353709Z",
     "iopub.status.idle": "2023-02-02T17:18:32.368911Z",
     "shell.execute_reply": "2023-02-02T17:18:32.367666Z"
    },
    "papermill": {
     "duration": 0.149869,
     "end_time": "2023-02-02T17:18:32.371518",
     "exception": false,
     "start_time": "2023-02-02T17:18:32.221649",
     "status": "completed"
    },
    "tags": []
   },
   "outputs": [
    {
     "data": {
      "text/html": [
       "<div>\n",
       "<style scoped>\n",
       "    .dataframe tbody tr th:only-of-type {\n",
       "        vertical-align: middle;\n",
       "    }\n",
       "\n",
       "    .dataframe tbody tr th {\n",
       "        vertical-align: top;\n",
       "    }\n",
       "\n",
       "    .dataframe thead th {\n",
       "        text-align: right;\n",
       "    }\n",
       "</style>\n",
       "<table border=\"1\" class=\"dataframe\">\n",
       "  <thead>\n",
       "    <tr style=\"text-align: right;\">\n",
       "      <th></th>\n",
       "      <th>frequency</th>\n",
       "      <th>recency</th>\n",
       "      <th>T</th>\n",
       "      <th>monetary_value</th>\n",
       "      <th>expected_purc_30_days</th>\n",
       "      <th>expected_average_profit</th>\n",
       "      <th>cltv</th>\n",
       "      <th>segment</th>\n",
       "    </tr>\n",
       "    <tr>\n",
       "      <th>Customer_ID</th>\n",
       "      <th></th>\n",
       "      <th></th>\n",
       "      <th></th>\n",
       "      <th></th>\n",
       "      <th></th>\n",
       "      <th></th>\n",
       "      <th></th>\n",
       "      <th></th>\n",
       "    </tr>\n",
       "  </thead>\n",
       "  <tbody>\n",
       "    <tr>\n",
       "      <th>12346.0</th>\n",
       "      <td>7.0</td>\n",
       "      <td>400.0</td>\n",
       "      <td>727.0</td>\n",
       "      <td>11066.637143</td>\n",
       "      <td>0.179173</td>\n",
       "      <td>11351.897198</td>\n",
       "      <td>50932.792179</td>\n",
       "      <td>A</td>\n",
       "    </tr>\n",
       "    <tr>\n",
       "      <th>12347.0</th>\n",
       "      <td>7.0</td>\n",
       "      <td>402.0</td>\n",
       "      <td>406.0</td>\n",
       "      <td>717.398571</td>\n",
       "      <td>0.483301</td>\n",
       "      <td>736.395207</td>\n",
       "      <td>8789.868861</td>\n",
       "      <td>A</td>\n",
       "    </tr>\n",
       "    <tr>\n",
       "      <th>12348.0</th>\n",
       "      <td>4.0</td>\n",
       "      <td>363.0</td>\n",
       "      <td>440.0</td>\n",
       "      <td>449.310000</td>\n",
       "      <td>0.267063</td>\n",
       "      <td>470.900379</td>\n",
       "      <td>3110.173593</td>\n",
       "      <td>B</td>\n",
       "    </tr>\n",
       "    <tr>\n",
       "      <th>12349.0</th>\n",
       "      <td>3.0</td>\n",
       "      <td>571.0</td>\n",
       "      <td>591.0</td>\n",
       "      <td>1120.056667</td>\n",
       "      <td>0.163433</td>\n",
       "      <td>1190.987555</td>\n",
       "      <td>4846.931855</td>\n",
       "      <td>A</td>\n",
       "    </tr>\n",
       "    <tr>\n",
       "      <th>12352.0</th>\n",
       "      <td>8.0</td>\n",
       "      <td>356.0</td>\n",
       "      <td>394.0</td>\n",
       "      <td>338.261250</td>\n",
       "      <td>0.556128</td>\n",
       "      <td>346.322300</td>\n",
       "      <td>4753.691059</td>\n",
       "      <td>A</td>\n",
       "    </tr>\n",
       "  </tbody>\n",
       "</table>\n",
       "</div>"
      ],
      "text/plain": [
       "             frequency  recency      T  monetary_value  expected_purc_30_days  \\\n",
       "Customer_ID                                                                     \n",
       "12346.0            7.0    400.0  727.0    11066.637143               0.179173   \n",
       "12347.0            7.0    402.0  406.0      717.398571               0.483301   \n",
       "12348.0            4.0    363.0  440.0      449.310000               0.267063   \n",
       "12349.0            3.0    571.0  591.0     1120.056667               0.163433   \n",
       "12352.0            8.0    356.0  394.0      338.261250               0.556128   \n",
       "\n",
       "             expected_average_profit          cltv segment  \n",
       "Customer_ID                                                 \n",
       "12346.0                 11351.897198  50932.792179       A  \n",
       "12347.0                   736.395207   8789.868861       A  \n",
       "12348.0                   470.900379   3110.173593       B  \n",
       "12349.0                  1190.987555   4846.931855       A  \n",
       "12352.0                   346.322300   4753.691059       A  "
      ]
     },
     "execution_count": 55,
     "metadata": {},
     "output_type": "execute_result"
    }
   ],
   "source": [
    "df_cltv.head()"
   ]
  },
  {
   "cell_type": "markdown",
   "id": "37a8e92b",
   "metadata": {
    "papermill": {
     "duration": 0.131746,
     "end_time": "2023-02-02T17:18:32.633278",
     "exception": false,
     "start_time": "2023-02-02T17:18:32.501532",
     "status": "completed"
    },
    "tags": []
   },
   "source": [
    "## Review The CLTV DataFrame <a id=\"4f\"></a>"
   ]
  },
  {
   "cell_type": "code",
   "execution_count": 56,
   "id": "0edb50d3",
   "metadata": {
    "execution": {
     "iopub.execute_input": "2023-02-02T17:18:32.893256Z",
     "iopub.status.busy": "2023-02-02T17:18:32.892814Z",
     "iopub.status.idle": "2023-02-02T17:18:32.907245Z",
     "shell.execute_reply": "2023-02-02T17:18:32.905998Z"
    },
    "papermill": {
     "duration": 0.147234,
     "end_time": "2023-02-02T17:18:32.909701",
     "exception": false,
     "start_time": "2023-02-02T17:18:32.762467",
     "status": "completed"
    },
    "tags": []
   },
   "outputs": [
    {
     "data": {
      "text/html": [
       "<div>\n",
       "<style scoped>\n",
       "    .dataframe tbody tr th:only-of-type {\n",
       "        vertical-align: middle;\n",
       "    }\n",
       "\n",
       "    .dataframe tbody tr th {\n",
       "        vertical-align: top;\n",
       "    }\n",
       "\n",
       "    .dataframe thead th {\n",
       "        text-align: right;\n",
       "    }\n",
       "</style>\n",
       "<table border=\"1\" class=\"dataframe\">\n",
       "  <thead>\n",
       "    <tr style=\"text-align: right;\">\n",
       "      <th></th>\n",
       "      <th>frequency</th>\n",
       "      <th>recency</th>\n",
       "      <th>T</th>\n",
       "      <th>monetary_value</th>\n",
       "      <th>expected_purc_30_days</th>\n",
       "      <th>expected_average_profit</th>\n",
       "      <th>cltv</th>\n",
       "      <th>segment</th>\n",
       "    </tr>\n",
       "    <tr>\n",
       "      <th>Customer_ID</th>\n",
       "      <th></th>\n",
       "      <th></th>\n",
       "      <th></th>\n",
       "      <th></th>\n",
       "      <th></th>\n",
       "      <th></th>\n",
       "      <th></th>\n",
       "      <th></th>\n",
       "    </tr>\n",
       "  </thead>\n",
       "  <tbody>\n",
       "    <tr>\n",
       "      <th>12346.0</th>\n",
       "      <td>7.0</td>\n",
       "      <td>400.0</td>\n",
       "      <td>727.0</td>\n",
       "      <td>11066.637143</td>\n",
       "      <td>0.179173</td>\n",
       "      <td>11351.897198</td>\n",
       "      <td>50932.792179</td>\n",
       "      <td>A</td>\n",
       "    </tr>\n",
       "    <tr>\n",
       "      <th>12347.0</th>\n",
       "      <td>7.0</td>\n",
       "      <td>402.0</td>\n",
       "      <td>406.0</td>\n",
       "      <td>717.398571</td>\n",
       "      <td>0.483301</td>\n",
       "      <td>736.395207</td>\n",
       "      <td>8789.868861</td>\n",
       "      <td>A</td>\n",
       "    </tr>\n",
       "    <tr>\n",
       "      <th>12348.0</th>\n",
       "      <td>4.0</td>\n",
       "      <td>363.0</td>\n",
       "      <td>440.0</td>\n",
       "      <td>449.310000</td>\n",
       "      <td>0.267063</td>\n",
       "      <td>470.900379</td>\n",
       "      <td>3110.173593</td>\n",
       "      <td>B</td>\n",
       "    </tr>\n",
       "    <tr>\n",
       "      <th>12349.0</th>\n",
       "      <td>3.0</td>\n",
       "      <td>571.0</td>\n",
       "      <td>591.0</td>\n",
       "      <td>1120.056667</td>\n",
       "      <td>0.163433</td>\n",
       "      <td>1190.987555</td>\n",
       "      <td>4846.931855</td>\n",
       "      <td>A</td>\n",
       "    </tr>\n",
       "    <tr>\n",
       "      <th>12352.0</th>\n",
       "      <td>8.0</td>\n",
       "      <td>356.0</td>\n",
       "      <td>394.0</td>\n",
       "      <td>338.261250</td>\n",
       "      <td>0.556128</td>\n",
       "      <td>346.322300</td>\n",
       "      <td>4753.691059</td>\n",
       "      <td>A</td>\n",
       "    </tr>\n",
       "  </tbody>\n",
       "</table>\n",
       "</div>"
      ],
      "text/plain": [
       "             frequency  recency      T  monetary_value  expected_purc_30_days  \\\n",
       "Customer_ID                                                                     \n",
       "12346.0            7.0    400.0  727.0    11066.637143               0.179173   \n",
       "12347.0            7.0    402.0  406.0      717.398571               0.483301   \n",
       "12348.0            4.0    363.0  440.0      449.310000               0.267063   \n",
       "12349.0            3.0    571.0  591.0     1120.056667               0.163433   \n",
       "12352.0            8.0    356.0  394.0      338.261250               0.556128   \n",
       "\n",
       "             expected_average_profit          cltv segment  \n",
       "Customer_ID                                                 \n",
       "12346.0                 11351.897198  50932.792179       A  \n",
       "12347.0                   736.395207   8789.868861       A  \n",
       "12348.0                   470.900379   3110.173593       B  \n",
       "12349.0                  1190.987555   4846.931855       A  \n",
       "12352.0                   346.322300   4753.691059       A  "
      ]
     },
     "execution_count": 56,
     "metadata": {},
     "output_type": "execute_result"
    }
   ],
   "source": [
    "df_cltv.head()"
   ]
  },
  {
   "cell_type": "markdown",
   "id": "912416e1",
   "metadata": {
    "papermill": {
     "duration": 0.182555,
     "end_time": "2023-02-02T17:18:33.220519",
     "exception": false,
     "start_time": "2023-02-02T17:18:33.037964",
     "status": "completed"
    },
    "tags": []
   },
   "source": [
    "At the code below, I check count, mean, and sum value of segments on the other values."
   ]
  },
  {
   "cell_type": "code",
   "execution_count": 57,
   "id": "6f430f51",
   "metadata": {
    "execution": {
     "iopub.execute_input": "2023-02-02T17:18:33.485368Z",
     "iopub.status.busy": "2023-02-02T17:18:33.484536Z",
     "iopub.status.idle": "2023-02-02T17:18:33.523372Z",
     "shell.execute_reply": "2023-02-02T17:18:33.522297Z"
    },
    "papermill": {
     "duration": 0.174723,
     "end_time": "2023-02-02T17:18:33.525738",
     "exception": false,
     "start_time": "2023-02-02T17:18:33.351015",
     "status": "completed"
    },
    "tags": []
   },
   "outputs": [
    {
     "data": {
      "text/html": [
       "<div>\n",
       "<style scoped>\n",
       "    .dataframe tbody tr th:only-of-type {\n",
       "        vertical-align: middle;\n",
       "    }\n",
       "\n",
       "    .dataframe tbody tr th {\n",
       "        vertical-align: top;\n",
       "    }\n",
       "\n",
       "    .dataframe thead tr th {\n",
       "        text-align: left;\n",
       "    }\n",
       "\n",
       "    .dataframe thead tr:last-of-type th {\n",
       "        text-align: right;\n",
       "    }\n",
       "</style>\n",
       "<table border=\"1\" class=\"dataframe\">\n",
       "  <thead>\n",
       "    <tr>\n",
       "      <th></th>\n",
       "      <th colspan=\"3\" halign=\"left\">frequency</th>\n",
       "      <th colspan=\"3\" halign=\"left\">recency</th>\n",
       "      <th colspan=\"3\" halign=\"left\">T</th>\n",
       "      <th colspan=\"3\" halign=\"left\">monetary_value</th>\n",
       "      <th colspan=\"3\" halign=\"left\">expected_purc_30_days</th>\n",
       "      <th colspan=\"3\" halign=\"left\">expected_average_profit</th>\n",
       "      <th colspan=\"3\" halign=\"left\">cltv</th>\n",
       "    </tr>\n",
       "    <tr>\n",
       "      <th></th>\n",
       "      <th>mean</th>\n",
       "      <th>sum</th>\n",
       "      <th>count</th>\n",
       "      <th>mean</th>\n",
       "      <th>sum</th>\n",
       "      <th>count</th>\n",
       "      <th>mean</th>\n",
       "      <th>sum</th>\n",
       "      <th>count</th>\n",
       "      <th>mean</th>\n",
       "      <th>...</th>\n",
       "      <th>count</th>\n",
       "      <th>mean</th>\n",
       "      <th>sum</th>\n",
       "      <th>count</th>\n",
       "      <th>mean</th>\n",
       "      <th>sum</th>\n",
       "      <th>count</th>\n",
       "      <th>mean</th>\n",
       "      <th>sum</th>\n",
       "      <th>count</th>\n",
       "    </tr>\n",
       "    <tr>\n",
       "      <th>segment</th>\n",
       "      <th></th>\n",
       "      <th></th>\n",
       "      <th></th>\n",
       "      <th></th>\n",
       "      <th></th>\n",
       "      <th></th>\n",
       "      <th></th>\n",
       "      <th></th>\n",
       "      <th></th>\n",
       "      <th></th>\n",
       "      <th></th>\n",
       "      <th></th>\n",
       "      <th></th>\n",
       "      <th></th>\n",
       "      <th></th>\n",
       "      <th></th>\n",
       "      <th></th>\n",
       "      <th></th>\n",
       "      <th></th>\n",
       "      <th></th>\n",
       "      <th></th>\n",
       "    </tr>\n",
       "  </thead>\n",
       "  <tbody>\n",
       "    <tr>\n",
       "      <th>D</th>\n",
       "      <td>2.267176</td>\n",
       "      <td>2376.0</td>\n",
       "      <td>1048</td>\n",
       "      <td>245.749046</td>\n",
       "      <td>257545.0</td>\n",
       "      <td>1048</td>\n",
       "      <td>554.094466</td>\n",
       "      <td>580691.0</td>\n",
       "      <td>1048</td>\n",
       "      <td>193.845080</td>\n",
       "      <td>...</td>\n",
       "      <td>1048</td>\n",
       "      <td>0.091805</td>\n",
       "      <td>96.211609</td>\n",
       "      <td>1048</td>\n",
       "      <td>223.250337</td>\n",
       "      <td>2.339664e+05</td>\n",
       "      <td>1048</td>\n",
       "      <td>386.242531</td>\n",
       "      <td>4.047822e+05</td>\n",
       "      <td>1048</td>\n",
       "    </tr>\n",
       "    <tr>\n",
       "      <th>C</th>\n",
       "      <td>3.061127</td>\n",
       "      <td>3205.0</td>\n",
       "      <td>1047</td>\n",
       "      <td>364.363897</td>\n",
       "      <td>381489.0</td>\n",
       "      <td>1047</td>\n",
       "      <td>513.352436</td>\n",
       "      <td>537480.0</td>\n",
       "      <td>1047</td>\n",
       "      <td>313.264274</td>\n",
       "      <td>...</td>\n",
       "      <td>1047</td>\n",
       "      <td>0.183454</td>\n",
       "      <td>192.075937</td>\n",
       "      <td>1047</td>\n",
       "      <td>350.882117</td>\n",
       "      <td>3.673736e+05</td>\n",
       "      <td>1047</td>\n",
       "      <td>1190.669072</td>\n",
       "      <td>1.246631e+06</td>\n",
       "      <td>1047</td>\n",
       "    </tr>\n",
       "    <tr>\n",
       "      <th>B</th>\n",
       "      <td>5.617956</td>\n",
       "      <td>5882.0</td>\n",
       "      <td>1047</td>\n",
       "      <td>426.978032</td>\n",
       "      <td>447046.0</td>\n",
       "      <td>1047</td>\n",
       "      <td>497.966571</td>\n",
       "      <td>521371.0</td>\n",
       "      <td>1047</td>\n",
       "      <td>396.142942</td>\n",
       "      <td>...</td>\n",
       "      <td>1047</td>\n",
       "      <td>0.333110</td>\n",
       "      <td>348.766604</td>\n",
       "      <td>1047</td>\n",
       "      <td>427.583976</td>\n",
       "      <td>4.476804e+05</td>\n",
       "      <td>1047</td>\n",
       "      <td>2723.902544</td>\n",
       "      <td>2.851926e+06</td>\n",
       "      <td>1047</td>\n",
       "    </tr>\n",
       "    <tr>\n",
       "      <th>A</th>\n",
       "      <td>15.060172</td>\n",
       "      <td>15768.0</td>\n",
       "      <td>1047</td>\n",
       "      <td>497.543457</td>\n",
       "      <td>520928.0</td>\n",
       "      <td>1047</td>\n",
       "      <td>531.015282</td>\n",
       "      <td>555973.0</td>\n",
       "      <td>1047</td>\n",
       "      <td>887.734136</td>\n",
       "      <td>...</td>\n",
       "      <td>1047</td>\n",
       "      <td>0.756185</td>\n",
       "      <td>791.725846</td>\n",
       "      <td>1047</td>\n",
       "      <td>956.308116</td>\n",
       "      <td>1.001255e+06</td>\n",
       "      <td>1047</td>\n",
       "      <td>14115.313808</td>\n",
       "      <td>1.477873e+07</td>\n",
       "      <td>1047</td>\n",
       "    </tr>\n",
       "  </tbody>\n",
       "</table>\n",
       "<p>4 rows × 21 columns</p>\n",
       "</div>"
      ],
      "text/plain": [
       "         frequency                    recency                           T  \\\n",
       "              mean      sum count        mean       sum count        mean   \n",
       "segment                                                                     \n",
       "D         2.267176   2376.0  1048  245.749046  257545.0  1048  554.094466   \n",
       "C         3.061127   3205.0  1047  364.363897  381489.0  1047  513.352436   \n",
       "B         5.617956   5882.0  1047  426.978032  447046.0  1047  497.966571   \n",
       "A        15.060172  15768.0  1047  497.543457  520928.0  1047  531.015282   \n",
       "\n",
       "                        monetary_value  ...       expected_purc_30_days  \\\n",
       "              sum count           mean  ... count                  mean   \n",
       "segment                                 ...                               \n",
       "D        580691.0  1048     193.845080  ...  1048              0.091805   \n",
       "C        537480.0  1047     313.264274  ...  1047              0.183454   \n",
       "B        521371.0  1047     396.142942  ...  1047              0.333110   \n",
       "A        555973.0  1047     887.734136  ...  1047              0.756185   \n",
       "\n",
       "                          expected_average_profit                      \\\n",
       "                sum count                    mean           sum count   \n",
       "segment                                                                 \n",
       "D         96.211609  1048              223.250337  2.339664e+05  1048   \n",
       "C        192.075937  1047              350.882117  3.673736e+05  1047   \n",
       "B        348.766604  1047              427.583976  4.476804e+05  1047   \n",
       "A        791.725846  1047              956.308116  1.001255e+06  1047   \n",
       "\n",
       "                 cltv                      \n",
       "                 mean           sum count  \n",
       "segment                                    \n",
       "D          386.242531  4.047822e+05  1048  \n",
       "C         1190.669072  1.246631e+06  1047  \n",
       "B         2723.902544  2.851926e+06  1047  \n",
       "A        14115.313808  1.477873e+07  1047  \n",
       "\n",
       "[4 rows x 21 columns]"
      ]
     },
     "execution_count": 57,
     "metadata": {},
     "output_type": "execute_result"
    }
   ],
   "source": [
    "df_cltv.groupby(\"segment\").agg({\"count\", \"mean\", \"sum\"})"
   ]
  },
  {
   "cell_type": "code",
   "execution_count": 58,
   "id": "5a822ca7",
   "metadata": {
    "execution": {
     "iopub.execute_input": "2023-02-02T17:18:33.785118Z",
     "iopub.status.busy": "2023-02-02T17:18:33.784687Z",
     "iopub.status.idle": "2023-02-02T17:18:33.800387Z",
     "shell.execute_reply": "2023-02-02T17:18:33.799583Z"
    },
    "papermill": {
     "duration": 0.147989,
     "end_time": "2023-02-02T17:18:33.802434",
     "exception": false,
     "start_time": "2023-02-02T17:18:33.654445",
     "status": "completed"
    },
    "tags": []
   },
   "outputs": [
    {
     "data": {
      "text/html": [
       "<div>\n",
       "<style scoped>\n",
       "    .dataframe tbody tr th:only-of-type {\n",
       "        vertical-align: middle;\n",
       "    }\n",
       "\n",
       "    .dataframe tbody tr th {\n",
       "        vertical-align: top;\n",
       "    }\n",
       "\n",
       "    .dataframe thead th {\n",
       "        text-align: right;\n",
       "    }\n",
       "</style>\n",
       "<table border=\"1\" class=\"dataframe\">\n",
       "  <thead>\n",
       "    <tr style=\"text-align: right;\">\n",
       "      <th></th>\n",
       "      <th>frequency</th>\n",
       "      <th>recency</th>\n",
       "      <th>T</th>\n",
       "      <th>monetary_value</th>\n",
       "      <th>expected_purc_30_days</th>\n",
       "      <th>expected_average_profit</th>\n",
       "      <th>cltv</th>\n",
       "      <th>segment</th>\n",
       "    </tr>\n",
       "    <tr>\n",
       "      <th>Customer_ID</th>\n",
       "      <th></th>\n",
       "      <th></th>\n",
       "      <th></th>\n",
       "      <th></th>\n",
       "      <th></th>\n",
       "      <th></th>\n",
       "      <th></th>\n",
       "      <th></th>\n",
       "    </tr>\n",
       "  </thead>\n",
       "  <tbody>\n",
       "    <tr>\n",
       "      <th>18102.0</th>\n",
       "      <td>66.0</td>\n",
       "      <td>738.0</td>\n",
       "      <td>740.0</td>\n",
       "      <td>9189.930455</td>\n",
       "      <td>2.482599</td>\n",
       "      <td>9214.499262</td>\n",
       "      <td>573534.728179</td>\n",
       "      <td>A</td>\n",
       "    </tr>\n",
       "    <tr>\n",
       "      <th>17428.0</th>\n",
       "      <td>32.0</td>\n",
       "      <td>738.0</td>\n",
       "      <td>740.0</td>\n",
       "      <td>953.976875</td>\n",
       "      <td>1.214977</td>\n",
       "      <td>959.355729</td>\n",
       "      <td>29219.814282</td>\n",
       "      <td>A</td>\n",
       "    </tr>\n",
       "    <tr>\n",
       "      <th>15311.0</th>\n",
       "      <td>195.0</td>\n",
       "      <td>738.0</td>\n",
       "      <td>740.0</td>\n",
       "      <td>594.605846</td>\n",
       "      <td>7.291823</td>\n",
       "      <td>595.160609</td>\n",
       "      <td>108814.016716</td>\n",
       "      <td>A</td>\n",
       "    </tr>\n",
       "    <tr>\n",
       "      <th>13777.0</th>\n",
       "      <td>45.0</td>\n",
       "      <td>737.0</td>\n",
       "      <td>739.0</td>\n",
       "      <td>1118.408889</td>\n",
       "      <td>1.701776</td>\n",
       "      <td>1122.871846</td>\n",
       "      <td>47904.802370</td>\n",
       "      <td>A</td>\n",
       "    </tr>\n",
       "    <tr>\n",
       "      <th>17243.0</th>\n",
       "      <td>65.0</td>\n",
       "      <td>737.0</td>\n",
       "      <td>740.0</td>\n",
       "      <td>313.137846</td>\n",
       "      <td>2.445034</td>\n",
       "      <td>314.042782</td>\n",
       "      <td>19251.045133</td>\n",
       "      <td>A</td>\n",
       "    </tr>\n",
       "  </tbody>\n",
       "</table>\n",
       "</div>"
      ],
      "text/plain": [
       "             frequency  recency      T  monetary_value  expected_purc_30_days  \\\n",
       "Customer_ID                                                                     \n",
       "18102.0           66.0    738.0  740.0     9189.930455               2.482599   \n",
       "17428.0           32.0    738.0  740.0      953.976875               1.214977   \n",
       "15311.0          195.0    738.0  740.0      594.605846               7.291823   \n",
       "13777.0           45.0    737.0  739.0     1118.408889               1.701776   \n",
       "17243.0           65.0    737.0  740.0      313.137846               2.445034   \n",
       "\n",
       "             expected_average_profit           cltv segment  \n",
       "Customer_ID                                                  \n",
       "18102.0                  9214.499262  573534.728179       A  \n",
       "17428.0                   959.355729   29219.814282       A  \n",
       "15311.0                   595.160609  108814.016716       A  \n",
       "13777.0                  1122.871846   47904.802370       A  \n",
       "17243.0                   314.042782   19251.045133       A  "
      ]
     },
     "execution_count": 58,
     "metadata": {},
     "output_type": "execute_result"
    }
   ],
   "source": [
    "df_cltv.sort_values(by = \"recency\", ascending = False).head()"
   ]
  },
  {
   "cell_type": "code",
   "execution_count": 59,
   "id": "10885712",
   "metadata": {
    "execution": {
     "iopub.execute_input": "2023-02-02T17:18:34.061782Z",
     "iopub.status.busy": "2023-02-02T17:18:34.060697Z",
     "iopub.status.idle": "2023-02-02T17:18:34.066852Z",
     "shell.execute_reply": "2023-02-02T17:18:34.066040Z"
    },
    "papermill": {
     "duration": 0.137933,
     "end_time": "2023-02-02T17:18:34.068896",
     "exception": false,
     "start_time": "2023-02-02T17:18:33.930963",
     "status": "completed"
    },
    "tags": []
   },
   "outputs": [],
   "source": [
    "def check_cltv_best_and_worst(column):\n",
    "    print(f\"############ Top five - {column} ############\")\n",
    "    print(df_cltv.sort_values(by = column, ascending = False).head())\n",
    "    print(f\"############ Bottom five - {column} ############\")\n",
    "    print(df_cltv.sort_values(by = column, ascending = True).head())"
   ]
  },
  {
   "cell_type": "code",
   "execution_count": 60,
   "id": "91b24959",
   "metadata": {
    "execution": {
     "iopub.execute_input": "2023-02-02T17:18:34.330091Z",
     "iopub.status.busy": "2023-02-02T17:18:34.328986Z",
     "iopub.status.idle": "2023-02-02T17:18:34.343615Z",
     "shell.execute_reply": "2023-02-02T17:18:34.341706Z"
    },
    "papermill": {
     "duration": 0.148311,
     "end_time": "2023-02-02T17:18:34.346112",
     "exception": false,
     "start_time": "2023-02-02T17:18:34.197801",
     "status": "completed"
    },
    "tags": []
   },
   "outputs": [
    {
     "name": "stdout",
     "output_type": "stream",
     "text": [
      "############ Top five - recency ############\n",
      "             frequency  recency      T  monetary_value  expected_purc_30_days  \\\n",
      "Customer_ID                                                                     \n",
      "18102.0           66.0    738.0  740.0     9189.930455               2.482599   \n",
      "17428.0           32.0    738.0  740.0      953.976875               1.214977   \n",
      "15311.0          195.0    738.0  740.0      594.605846               7.291823   \n",
      "13777.0           45.0    737.0  739.0     1118.408889               1.701776   \n",
      "17243.0           65.0    737.0  740.0      313.137846               2.445034   \n",
      "\n",
      "             expected_average_profit           cltv segment  \n",
      "Customer_ID                                                  \n",
      "18102.0                  9214.499262  573534.728179       A  \n",
      "17428.0                   959.355729   29219.814282       A  \n",
      "15311.0                   595.160609  108814.016716       A  \n",
      "13777.0                  1122.871846   47904.802370       A  \n",
      "17243.0                   314.042782   19251.045133       A  \n",
      "############ Bottom five - recency ############\n",
      "             frequency  recency      T  monetary_value  expected_purc_30_days  \\\n",
      "Customer_ID                                                                     \n",
      "15230.0            1.0      1.0  242.0           59.40               0.090015   \n",
      "18139.0            1.0      1.0   20.0         1825.74               0.540202   \n",
      "15700.0            1.0      1.0  175.0            3.90               0.135683   \n",
      "15060.0            1.0      1.0   11.0           16.61               0.613736   \n",
      "17622.0            1.0      1.0  600.0          393.33               0.019058   \n",
      "\n",
      "             expected_average_profit          cltv segment  \n",
      "Customer_ID                                                 \n",
      "15230.0                    76.516570    167.008084       D  \n",
      "18139.0                  2219.034669  27490.226352       A  \n",
      "15700.0                     9.196714     29.968361       D  \n",
      "15060.0                    24.613567    344.610462       D  \n",
      "17622.0                   481.563768    228.179110       D  \n"
     ]
    }
   ],
   "source": [
    "check_cltv_best_and_worst(\"recency\")"
   ]
  },
  {
   "cell_type": "code",
   "execution_count": 61,
   "id": "6498d1b4",
   "metadata": {
    "execution": {
     "iopub.execute_input": "2023-02-02T17:18:34.664428Z",
     "iopub.status.busy": "2023-02-02T17:18:34.663746Z",
     "iopub.status.idle": "2023-02-02T17:18:34.679492Z",
     "shell.execute_reply": "2023-02-02T17:18:34.677726Z"
    },
    "papermill": {
     "duration": 0.206322,
     "end_time": "2023-02-02T17:18:34.682319",
     "exception": false,
     "start_time": "2023-02-02T17:18:34.475997",
     "status": "completed"
    },
    "tags": []
   },
   "outputs": [
    {
     "name": "stdout",
     "output_type": "stream",
     "text": [
      "############ Top five - frequency ############\n",
      "             frequency  recency      T  monetary_value  expected_purc_30_days  \\\n",
      "Customer_ID                                                                     \n",
      "14911.0          254.0    737.0  740.0     1162.358268               9.489260   \n",
      "12748.0          202.0    735.0  737.0      279.101436               7.581038   \n",
      "15311.0          195.0    738.0  740.0      594.605846               7.291823   \n",
      "17841.0          192.0    736.0  739.0      366.423490               7.187683   \n",
      "14606.0          180.0    735.0  738.0      170.255889               6.748288   \n",
      "\n",
      "             expected_average_profit           cltv segment  \n",
      "Customer_ID                                                  \n",
      "14911.0                  1163.176810  276755.731295       A  \n",
      "12748.0                   279.362484   53097.696742       A  \n",
      "15311.0                   595.160609  108814.016716       A  \n",
      "17841.0                   366.778073   66098.942365       A  \n",
      "14606.0                   170.442599   28837.709304       A  \n",
      "############ Bottom five - frequency ############\n",
      "             frequency  recency      T  monetary_value  expected_purc_30_days  \\\n",
      "Customer_ID                                                                     \n",
      "15121.0            1.0    238.0  290.0          162.57               0.130472   \n",
      "17542.0            1.0    372.0  643.0          170.75               0.062124   \n",
      "13519.0            1.0    364.0  444.0          122.75               0.090829   \n",
      "16674.0            1.0     44.0  100.0          197.41               0.270360   \n",
      "17547.0            1.0    290.0  667.0          323.30               0.056724   \n",
      "\n",
      "             expected_average_profit         cltv segment  \n",
      "Customer_ID                                                \n",
      "15121.0                   201.658724   641.376103       D  \n",
      "17542.0                   211.580821   327.354480       D  \n",
      "13519.0                   153.358243   343.651908       D  \n",
      "16674.0                   243.918612  1558.928717       C  \n",
      "17547.0                   396.619453   560.790902       D  \n"
     ]
    }
   ],
   "source": [
    "check_cltv_best_and_worst(\"frequency\")"
   ]
  },
  {
   "cell_type": "code",
   "execution_count": 62,
   "id": "c4d72a0e",
   "metadata": {
    "execution": {
     "iopub.execute_input": "2023-02-02T17:18:34.945281Z",
     "iopub.status.busy": "2023-02-02T17:18:34.944100Z",
     "iopub.status.idle": "2023-02-02T17:18:34.958550Z",
     "shell.execute_reply": "2023-02-02T17:18:34.957288Z"
    },
    "papermill": {
     "duration": 0.147785,
     "end_time": "2023-02-02T17:18:34.961577",
     "exception": false,
     "start_time": "2023-02-02T17:18:34.813792",
     "status": "completed"
    },
    "tags": []
   },
   "outputs": [
    {
     "name": "stdout",
     "output_type": "stream",
     "text": [
      "############ Top five - monetary_value ############\n",
      "             frequency  recency      T  monetary_value  expected_purc_30_days  \\\n",
      "Customer_ID                                                                     \n",
      "16446.0            1.0    205.0  207.0   168469.600000               0.173175   \n",
      "15749.0            1.0     97.0  334.0    21535.900000               0.098270   \n",
      "12346.0            7.0    400.0  727.0    11066.637143               0.179173   \n",
      "18102.0           66.0    738.0  740.0     9189.930455               2.482599   \n",
      "13902.0            4.0     92.0  726.0     8416.400000               0.004953   \n",
      "\n",
      "             expected_average_profit           cltv segment  \n",
      "Customer_ID                                                  \n",
      "16446.0                204353.100667  854131.650338       A  \n",
      "15749.0                 26126.874911   62843.011629       A  \n",
      "12346.0                 11351.897198   50932.792179       A  \n",
      "18102.0                  9214.499262  573534.728179       A  \n",
      "13902.0                  8803.755992    1091.226771       C  \n",
      "############ Bottom five - monetary_value ############\n",
      "             frequency  recency      T  monetary_value  expected_purc_30_days  \\\n",
      "Customer_ID                                                                     \n",
      "15700.0            1.0      1.0  175.0            3.90               0.135683   \n",
      "15884.0            1.0    304.0  738.0            7.90               0.050900   \n",
      "15516.0            1.0      2.0   48.0            8.67               0.386628   \n",
      "16498.0            1.0      1.0  164.0            9.75               0.146065   \n",
      "16454.0            3.0    567.0  613.0            9.80               0.157507   \n",
      "\n",
      "             expected_average_profit        cltv segment  \n",
      "Customer_ID                                               \n",
      "15700.0                     9.196714   29.968361       D  \n",
      "15884.0                    14.048595   17.865777       D  \n",
      "15516.0                    14.982582  134.618068       D  \n",
      "16498.0                    16.292590   57.044498       D  \n",
      "16454.0                    11.712829   45.978404       D  \n"
     ]
    }
   ],
   "source": [
    "check_cltv_best_and_worst(\"monetary_value\")"
   ]
  },
  {
   "cell_type": "code",
   "execution_count": 63,
   "id": "7594b8b1",
   "metadata": {
    "execution": {
     "iopub.execute_input": "2023-02-02T17:18:35.227307Z",
     "iopub.status.busy": "2023-02-02T17:18:35.226531Z",
     "iopub.status.idle": "2023-02-02T17:18:35.240072Z",
     "shell.execute_reply": "2023-02-02T17:18:35.238823Z"
    },
    "papermill": {
     "duration": 0.148222,
     "end_time": "2023-02-02T17:18:35.242490",
     "exception": false,
     "start_time": "2023-02-02T17:18:35.094268",
     "status": "completed"
    },
    "tags": []
   },
   "outputs": [
    {
     "data": {
      "text/html": [
       "<div>\n",
       "<style scoped>\n",
       "    .dataframe tbody tr th:only-of-type {\n",
       "        vertical-align: middle;\n",
       "    }\n",
       "\n",
       "    .dataframe tbody tr th {\n",
       "        vertical-align: top;\n",
       "    }\n",
       "\n",
       "    .dataframe thead th {\n",
       "        text-align: right;\n",
       "    }\n",
       "</style>\n",
       "<table border=\"1\" class=\"dataframe\">\n",
       "  <thead>\n",
       "    <tr style=\"text-align: right;\">\n",
       "      <th></th>\n",
       "      <th>frequency</th>\n",
       "      <th>recency</th>\n",
       "      <th>T</th>\n",
       "      <th>monetary_value</th>\n",
       "      <th>expected_purc_30_days</th>\n",
       "      <th>expected_average_profit</th>\n",
       "      <th>cltv</th>\n",
       "      <th>segment</th>\n",
       "    </tr>\n",
       "    <tr>\n",
       "      <th>Customer_ID</th>\n",
       "      <th></th>\n",
       "      <th></th>\n",
       "      <th></th>\n",
       "      <th></th>\n",
       "      <th></th>\n",
       "      <th></th>\n",
       "      <th></th>\n",
       "      <th></th>\n",
       "    </tr>\n",
       "  </thead>\n",
       "  <tbody>\n",
       "    <tr>\n",
       "      <th>12346.0</th>\n",
       "      <td>7.0</td>\n",
       "      <td>400.0</td>\n",
       "      <td>727.0</td>\n",
       "      <td>11066.637143</td>\n",
       "      <td>0.179173</td>\n",
       "      <td>11351.897198</td>\n",
       "      <td>50932.792179</td>\n",
       "      <td>A</td>\n",
       "    </tr>\n",
       "    <tr>\n",
       "      <th>12347.0</th>\n",
       "      <td>7.0</td>\n",
       "      <td>402.0</td>\n",
       "      <td>406.0</td>\n",
       "      <td>717.398571</td>\n",
       "      <td>0.483301</td>\n",
       "      <td>736.395207</td>\n",
       "      <td>8789.868861</td>\n",
       "      <td>A</td>\n",
       "    </tr>\n",
       "    <tr>\n",
       "      <th>12348.0</th>\n",
       "      <td>4.0</td>\n",
       "      <td>363.0</td>\n",
       "      <td>440.0</td>\n",
       "      <td>449.310000</td>\n",
       "      <td>0.267063</td>\n",
       "      <td>470.900379</td>\n",
       "      <td>3110.173593</td>\n",
       "      <td>B</td>\n",
       "    </tr>\n",
       "    <tr>\n",
       "      <th>12349.0</th>\n",
       "      <td>3.0</td>\n",
       "      <td>571.0</td>\n",
       "      <td>591.0</td>\n",
       "      <td>1120.056667</td>\n",
       "      <td>0.163433</td>\n",
       "      <td>1190.987555</td>\n",
       "      <td>4846.931855</td>\n",
       "      <td>A</td>\n",
       "    </tr>\n",
       "    <tr>\n",
       "      <th>12352.0</th>\n",
       "      <td>8.0</td>\n",
       "      <td>356.0</td>\n",
       "      <td>394.0</td>\n",
       "      <td>338.261250</td>\n",
       "      <td>0.556128</td>\n",
       "      <td>346.322300</td>\n",
       "      <td>4753.691059</td>\n",
       "      <td>A</td>\n",
       "    </tr>\n",
       "  </tbody>\n",
       "</table>\n",
       "</div>"
      ],
      "text/plain": [
       "             frequency  recency      T  monetary_value  expected_purc_30_days  \\\n",
       "Customer_ID                                                                     \n",
       "12346.0            7.0    400.0  727.0    11066.637143               0.179173   \n",
       "12347.0            7.0    402.0  406.0      717.398571               0.483301   \n",
       "12348.0            4.0    363.0  440.0      449.310000               0.267063   \n",
       "12349.0            3.0    571.0  591.0     1120.056667               0.163433   \n",
       "12352.0            8.0    356.0  394.0      338.261250               0.556128   \n",
       "\n",
       "             expected_average_profit          cltv segment  \n",
       "Customer_ID                                                 \n",
       "12346.0                 11351.897198  50932.792179       A  \n",
       "12347.0                   736.395207   8789.868861       A  \n",
       "12348.0                   470.900379   3110.173593       B  \n",
       "12349.0                  1190.987555   4846.931855       A  \n",
       "12352.0                   346.322300   4753.691059       A  "
      ]
     },
     "execution_count": 63,
     "metadata": {},
     "output_type": "execute_result"
    }
   ],
   "source": [
    "df_cltv.head()"
   ]
  },
  {
   "cell_type": "markdown",
   "id": "0acb3a3c",
   "metadata": {},
   "source": [
    "## Model Validation <a id=\"5\"></a>"
   ]
  },
  {
   "cell_type": "markdown",
   "id": "6359a4a6",
   "metadata": {},
   "source": [
    "## Reference"
   ]
  },
  {
   "cell_type": "markdown",
   "id": "efc917dd",
   "metadata": {},
   "source": [
    "[spark notebook reference](https://www.databricks.com/notebooks/CLV_Part_1_Customer_Lifetimes.html#)"
   ]
  }
 ],
 "metadata": {
  "kernelspec": {
   "display_name": "Python 3 (ipykernel)",
   "language": "python",
   "name": "python3"
  },
  "language_info": {
   "codemirror_mode": {
    "name": "ipython",
    "version": 3
   },
   "file_extension": ".py",
   "mimetype": "text/x-python",
   "name": "python",
   "nbconvert_exporter": "python",
   "pygments_lexer": "ipython3",
   "version": "3.11.5"
  },
  "papermill": {
   "default_parameters": {},
   "duration": 203.135022,
   "end_time": "2023-02-02T17:19:09.436700",
   "environment_variables": {},
   "exception": null,
   "input_path": "__notebook__.ipynb",
   "output_path": "__notebook__.ipynb",
   "parameters": {},
   "start_time": "2023-02-02T17:15:46.301678",
   "version": "2.3.4"
  }
 },
 "nbformat": 4,
 "nbformat_minor": 5
}
